{
  "cells": [
    {
      "cell_type": "markdown",
      "metadata": {
        "id": "1rJd4oxpuOOs"
      },
      "source": [
        "# Download Datset and Understand the Format"
      ]
    },
    {
      "cell_type": "code",
      "execution_count": 1,
      "metadata": {
        "id": "NsNs-82juSp0"
      },
      "outputs": [],
      "source": [
        "import pandas as pd\n",
        "# Collect the data from the zipped files\n",
        "df_training = pd.read_csv('kddcup.data.gz', header=None)\n",
        "df_testing = pd.read_csv('corrected.gz', header=None)\n",
        "df_training_10 = pd.read_csv('kddcup.data_10_percent.gz', header=None)"
      ]
    },
    {
      "cell_type": "code",
      "execution_count": 2,
      "metadata": {
        "colab": {
          "base_uri": "https://localhost:8080/"
        },
        "id": "oG4irohoh94f",
        "outputId": "5e673cee-d0e6-4905-8cc3-16de1fc4759f"
      },
      "outputs": [
        {
          "output_type": "stream",
          "name": "stdout",
          "text": [
            "['normal.' 'normal.' 'normal.' ... 'normal.' 'normal.' 'normal.']\n",
            "['normal.' 'normal.' 'normal.' ... 'normal.' 'normal.' 'normal.']\n",
            "['normal.' 'normal.' 'normal.' ... 'normal.' 'normal.' 'normal.']\n"
          ]
        }
      ],
      "source": [
        "# Split the data from labels\n",
        "trlabels = df_training.iloc[:, 41].values\n",
        "tslabels = df_testing.iloc[:, 41].values\n",
        "trlabels_10 = df_training_10.iloc[:, 41].values\n",
        "training = df_training.drop(df_training.columns[41], axis=1)\n",
        "testing = df_testing.drop(df_testing.columns[41], axis=1)\n",
        "training_10 = df_training_10.drop(df_training_10.columns[41], axis=1)\n",
        "# The data after dropping the headers should be of shape (4898431, 41) and (311029, 41)\n",
        "\n",
        "assert (training.shape == (4898431, 41))\n",
        "assert (testing.shape == (311029, 41))\n",
        "assert (training_10.shape == (494021, 41))\n",
        "print(trlabels)\n",
        "print(tslabels)\n",
        "print(trlabels_10)"
      ]
    },
    {
      "cell_type": "markdown",
      "metadata": {
        "id": "8YMK-FdDiCS3"
      },
      "source": [
        "# Convert the categorical values into numeric values."
      ]
    },
    {
      "cell_type": "code",
      "execution_count": 3,
      "metadata": {
        "id": "7J24KT0AiEJf"
      },
      "outputs": [],
      "source": [
        "import numpy as np\n",
        "from sklearn.preprocessing import LabelEncoder\n",
        "\n",
        "def cat_to_num(trcolumn, tscolumn):\n",
        "    \"\"\"\n",
        "    Converts 2 categorical columns of the same types into numerical columns\n",
        "\n",
        "    Args:\n",
        "        trcolumn (ndarray): ndarray of values of the first column.\n",
        "        tscolumn (ndarray): ndarray of values of the second column.\n",
        "\n",
        "    Returns:\n",
        "        tuple: a tuple of 2 ndarrays\n",
        "    \"\"\"\n",
        "    encoder = LabelEncoder()\n",
        "    categories = set(np.unique(trcolumn)).union(set(np.unique(tscolumn)))\n",
        "    encoder.fit(list(categories))\n",
        "    return encoder.transform(trcolumn), encoder.transform(tscolumn)"
      ]
    },
    {
      "cell_type": "code",
      "execution_count": 4,
      "metadata": {
        "id": "9ddoRTk0iF7H"
      },
      "outputs": [],
      "source": [
        "# Copy the data into another dataframe to convert its categorical values into numerical.\n",
        "num_training = training.copy()\n",
        "num_testing = testing.copy()\n",
        "num_training_10 = training_10.copy()\n",
        "num_testing_10 = testing.copy()\n",
        "# Convert the categorical features.\n",
        "for i in range(1, 4):\n",
        "    values = cat_to_num(num_training.iloc[:, i].values, num_testing.iloc[:, i].values)\n",
        "    num_training.isetitem(i, values[0])\n",
        "    num_testing.isetitem(i, values[1])\n",
        "\n",
        "\n",
        "for i in range(1, 4):\n",
        "    values = cat_to_num(num_training_10.iloc[:, i].values, num_testing_10.iloc[:, i].values)\n",
        "    num_training_10.isetitem(i, values[0])\n",
        "    num_testing_10.isetitem(i, values[1])\n",
        "# Convert the labels.\n",
        "num_trlabels, num_tslabels = cat_to_num(trlabels, tslabels)\n",
        "num_trlabels_10, num_tslabels_10 = cat_to_num(trlabels_10, tslabels)"
      ]
    },
    {
      "cell_type": "code",
      "execution_count": 5,
      "metadata": {
        "colab": {
          "base_uri": "https://localhost:8080/",
          "height": 300
        },
        "id": "5t7fPCm34m3o",
        "outputId": "6ccbf467-c06c-41bc-8a6c-44178b243a0c"
      },
      "outputs": [
        {
          "output_type": "execute_result",
          "data": {
            "text/plain": [
              "   0   1   2   3    4      5   6   7   8   9   ...  31  32   33   34    35  \\\n",
              "0   0   1  24   9  215  45076   0   0   0   0  ...   0   0  0.0  0.0  0.00   \n",
              "1   0   1  24   9  162   4528   0   0   0   0  ...   1   1  1.0  0.0  1.00   \n",
              "2   0   1  24   9  236   1228   0   0   0   0  ...   2   2  1.0  0.0  0.50   \n",
              "3   0   1  24   9  233   2032   0   0   0   0  ...   3   3  1.0  0.0  0.33   \n",
              "4   0   1  24   9  239    486   0   0   0   0  ...   4   4  1.0  0.0  0.25   \n",
              "\n",
              "    36   37   38   39   40  \n",
              "0  0.0  0.0  0.0  0.0  0.0  \n",
              "1  0.0  0.0  0.0  0.0  0.0  \n",
              "2  0.0  0.0  0.0  0.0  0.0  \n",
              "3  0.0  0.0  0.0  0.0  0.0  \n",
              "4  0.0  0.0  0.0  0.0  0.0  \n",
              "\n",
              "[5 rows x 41 columns]"
            ],
            "text/html": [
              "\n",
              "  <div id=\"df-5807ca34-d952-4c98-a5d1-4a3d26d20a67\">\n",
              "    <div class=\"colab-df-container\">\n",
              "      <div>\n",
              "<style scoped>\n",
              "    .dataframe tbody tr th:only-of-type {\n",
              "        vertical-align: middle;\n",
              "    }\n",
              "\n",
              "    .dataframe tbody tr th {\n",
              "        vertical-align: top;\n",
              "    }\n",
              "\n",
              "    .dataframe thead th {\n",
              "        text-align: right;\n",
              "    }\n",
              "</style>\n",
              "<table border=\"1\" class=\"dataframe\">\n",
              "  <thead>\n",
              "    <tr style=\"text-align: right;\">\n",
              "      <th></th>\n",
              "      <th>0</th>\n",
              "      <th>1</th>\n",
              "      <th>2</th>\n",
              "      <th>3</th>\n",
              "      <th>4</th>\n",
              "      <th>5</th>\n",
              "      <th>6</th>\n",
              "      <th>7</th>\n",
              "      <th>8</th>\n",
              "      <th>9</th>\n",
              "      <th>...</th>\n",
              "      <th>31</th>\n",
              "      <th>32</th>\n",
              "      <th>33</th>\n",
              "      <th>34</th>\n",
              "      <th>35</th>\n",
              "      <th>36</th>\n",
              "      <th>37</th>\n",
              "      <th>38</th>\n",
              "      <th>39</th>\n",
              "      <th>40</th>\n",
              "    </tr>\n",
              "  </thead>\n",
              "  <tbody>\n",
              "    <tr>\n",
              "      <th>0</th>\n",
              "      <td>0</td>\n",
              "      <td>1</td>\n",
              "      <td>24</td>\n",
              "      <td>9</td>\n",
              "      <td>215</td>\n",
              "      <td>45076</td>\n",
              "      <td>0</td>\n",
              "      <td>0</td>\n",
              "      <td>0</td>\n",
              "      <td>0</td>\n",
              "      <td>...</td>\n",
              "      <td>0</td>\n",
              "      <td>0</td>\n",
              "      <td>0.0</td>\n",
              "      <td>0.0</td>\n",
              "      <td>0.00</td>\n",
              "      <td>0.0</td>\n",
              "      <td>0.0</td>\n",
              "      <td>0.0</td>\n",
              "      <td>0.0</td>\n",
              "      <td>0.0</td>\n",
              "    </tr>\n",
              "    <tr>\n",
              "      <th>1</th>\n",
              "      <td>0</td>\n",
              "      <td>1</td>\n",
              "      <td>24</td>\n",
              "      <td>9</td>\n",
              "      <td>162</td>\n",
              "      <td>4528</td>\n",
              "      <td>0</td>\n",
              "      <td>0</td>\n",
              "      <td>0</td>\n",
              "      <td>0</td>\n",
              "      <td>...</td>\n",
              "      <td>1</td>\n",
              "      <td>1</td>\n",
              "      <td>1.0</td>\n",
              "      <td>0.0</td>\n",
              "      <td>1.00</td>\n",
              "      <td>0.0</td>\n",
              "      <td>0.0</td>\n",
              "      <td>0.0</td>\n",
              "      <td>0.0</td>\n",
              "      <td>0.0</td>\n",
              "    </tr>\n",
              "    <tr>\n",
              "      <th>2</th>\n",
              "      <td>0</td>\n",
              "      <td>1</td>\n",
              "      <td>24</td>\n",
              "      <td>9</td>\n",
              "      <td>236</td>\n",
              "      <td>1228</td>\n",
              "      <td>0</td>\n",
              "      <td>0</td>\n",
              "      <td>0</td>\n",
              "      <td>0</td>\n",
              "      <td>...</td>\n",
              "      <td>2</td>\n",
              "      <td>2</td>\n",
              "      <td>1.0</td>\n",
              "      <td>0.0</td>\n",
              "      <td>0.50</td>\n",
              "      <td>0.0</td>\n",
              "      <td>0.0</td>\n",
              "      <td>0.0</td>\n",
              "      <td>0.0</td>\n",
              "      <td>0.0</td>\n",
              "    </tr>\n",
              "    <tr>\n",
              "      <th>3</th>\n",
              "      <td>0</td>\n",
              "      <td>1</td>\n",
              "      <td>24</td>\n",
              "      <td>9</td>\n",
              "      <td>233</td>\n",
              "      <td>2032</td>\n",
              "      <td>0</td>\n",
              "      <td>0</td>\n",
              "      <td>0</td>\n",
              "      <td>0</td>\n",
              "      <td>...</td>\n",
              "      <td>3</td>\n",
              "      <td>3</td>\n",
              "      <td>1.0</td>\n",
              "      <td>0.0</td>\n",
              "      <td>0.33</td>\n",
              "      <td>0.0</td>\n",
              "      <td>0.0</td>\n",
              "      <td>0.0</td>\n",
              "      <td>0.0</td>\n",
              "      <td>0.0</td>\n",
              "    </tr>\n",
              "    <tr>\n",
              "      <th>4</th>\n",
              "      <td>0</td>\n",
              "      <td>1</td>\n",
              "      <td>24</td>\n",
              "      <td>9</td>\n",
              "      <td>239</td>\n",
              "      <td>486</td>\n",
              "      <td>0</td>\n",
              "      <td>0</td>\n",
              "      <td>0</td>\n",
              "      <td>0</td>\n",
              "      <td>...</td>\n",
              "      <td>4</td>\n",
              "      <td>4</td>\n",
              "      <td>1.0</td>\n",
              "      <td>0.0</td>\n",
              "      <td>0.25</td>\n",
              "      <td>0.0</td>\n",
              "      <td>0.0</td>\n",
              "      <td>0.0</td>\n",
              "      <td>0.0</td>\n",
              "      <td>0.0</td>\n",
              "    </tr>\n",
              "  </tbody>\n",
              "</table>\n",
              "<p>5 rows × 41 columns</p>\n",
              "</div>\n",
              "      <button class=\"colab-df-convert\" onclick=\"convertToInteractive('df-5807ca34-d952-4c98-a5d1-4a3d26d20a67')\"\n",
              "              title=\"Convert this dataframe to an interactive table.\"\n",
              "              style=\"display:none;\">\n",
              "        \n",
              "  <svg xmlns=\"http://www.w3.org/2000/svg\" height=\"24px\"viewBox=\"0 0 24 24\"\n",
              "       width=\"24px\">\n",
              "    <path d=\"M0 0h24v24H0V0z\" fill=\"none\"/>\n",
              "    <path d=\"M18.56 5.44l.94 2.06.94-2.06 2.06-.94-2.06-.94-.94-2.06-.94 2.06-2.06.94zm-11 1L8.5 8.5l.94-2.06 2.06-.94-2.06-.94L8.5 2.5l-.94 2.06-2.06.94zm10 10l.94 2.06.94-2.06 2.06-.94-2.06-.94-.94-2.06-.94 2.06-2.06.94z\"/><path d=\"M17.41 7.96l-1.37-1.37c-.4-.4-.92-.59-1.43-.59-.52 0-1.04.2-1.43.59L10.3 9.45l-7.72 7.72c-.78.78-.78 2.05 0 2.83L4 21.41c.39.39.9.59 1.41.59.51 0 1.02-.2 1.41-.59l7.78-7.78 2.81-2.81c.8-.78.8-2.07 0-2.86zM5.41 20L4 18.59l7.72-7.72 1.47 1.35L5.41 20z\"/>\n",
              "  </svg>\n",
              "      </button>\n",
              "      \n",
              "  <style>\n",
              "    .colab-df-container {\n",
              "      display:flex;\n",
              "      flex-wrap:wrap;\n",
              "      gap: 12px;\n",
              "    }\n",
              "\n",
              "    .colab-df-convert {\n",
              "      background-color: #E8F0FE;\n",
              "      border: none;\n",
              "      border-radius: 50%;\n",
              "      cursor: pointer;\n",
              "      display: none;\n",
              "      fill: #1967D2;\n",
              "      height: 32px;\n",
              "      padding: 0 0 0 0;\n",
              "      width: 32px;\n",
              "    }\n",
              "\n",
              "    .colab-df-convert:hover {\n",
              "      background-color: #E2EBFA;\n",
              "      box-shadow: 0px 1px 2px rgba(60, 64, 67, 0.3), 0px 1px 3px 1px rgba(60, 64, 67, 0.15);\n",
              "      fill: #174EA6;\n",
              "    }\n",
              "\n",
              "    [theme=dark] .colab-df-convert {\n",
              "      background-color: #3B4455;\n",
              "      fill: #D2E3FC;\n",
              "    }\n",
              "\n",
              "    [theme=dark] .colab-df-convert:hover {\n",
              "      background-color: #434B5C;\n",
              "      box-shadow: 0px 1px 3px 1px rgba(0, 0, 0, 0.15);\n",
              "      filter: drop-shadow(0px 1px 2px rgba(0, 0, 0, 0.3));\n",
              "      fill: #FFFFFF;\n",
              "    }\n",
              "  </style>\n",
              "\n",
              "      <script>\n",
              "        const buttonEl =\n",
              "          document.querySelector('#df-5807ca34-d952-4c98-a5d1-4a3d26d20a67 button.colab-df-convert');\n",
              "        buttonEl.style.display =\n",
              "          google.colab.kernel.accessAllowed ? 'block' : 'none';\n",
              "\n",
              "        async function convertToInteractive(key) {\n",
              "          const element = document.querySelector('#df-5807ca34-d952-4c98-a5d1-4a3d26d20a67');\n",
              "          const dataTable =\n",
              "            await google.colab.kernel.invokeFunction('convertToInteractive',\n",
              "                                                     [key], {});\n",
              "          if (!dataTable) return;\n",
              "\n",
              "          const docLinkHtml = 'Like what you see? Visit the ' +\n",
              "            '<a target=\"_blank\" href=https://colab.research.google.com/notebooks/data_table.ipynb>data table notebook</a>'\n",
              "            + ' to learn more about interactive tables.';\n",
              "          element.innerHTML = '';\n",
              "          dataTable['output_type'] = 'display_data';\n",
              "          await google.colab.output.renderOutput(dataTable, element);\n",
              "          const docLink = document.createElement('div');\n",
              "          docLink.innerHTML = docLinkHtml;\n",
              "          element.appendChild(docLink);\n",
              "        }\n",
              "      </script>\n",
              "    </div>\n",
              "  </div>\n",
              "  "
            ]
          },
          "metadata": {},
          "execution_count": 5
        }
      ],
      "source": [
        "num_training.head()"
      ]
    },
    {
      "cell_type": "markdown",
      "metadata": {
        "id": "IbWT0YFYiIAu"
      },
      "source": [
        "The data is now available in two forms:\n",
        "\n",
        "Form One (Categorical):\n",
        "\n",
        "training\n",
        "\n",
        "*   trlabels\n",
        "*   tslabels\n",
        "*   training\n",
        "*   testing\n",
        "\n",
        "Form Two (Numerical):\n",
        "\n",
        "*   trlabels\n",
        "*   tslabels\n",
        "*   training\n",
        "*   testing\n",
        "\n"
      ]
    },
    {
      "cell_type": "markdown",
      "metadata": {
        "id": "ZDq4S1n1xk21"
      },
      "source": [
        "# Clustering Using K-Means "
      ]
    },
    {
      "cell_type": "code",
      "execution_count": 6,
      "metadata": {
        "id": "yf7WKh0_xnr7"
      },
      "outputs": [],
      "source": [
        "def k_means(X, k, epsilon):\n",
        "    \n",
        "    n_samples, n_features = X.shape\n",
        "    \n",
        "    # Randomly choose k data points as the initial centroids\n",
        "    centroids = X[np.random.choice(n_samples, k, replace=False)]\n",
        "    distances = np.zeros((n_samples, k))\n",
        "    labels = np.zeros(n_samples)\n",
        "    old_centroids = np.zeros((k, n_features))\n",
        "    \n",
        "    # Continue until the centroids don't change by more than epsilon\n",
        "    while np.linalg.norm(centroids - old_centroids) > epsilon:\n",
        "        old_centroids = centroids.copy()\n",
        "        \n",
        "        # Calculate the Euclidean distances from each sample to each centroid\n",
        "        for i in range(k):\n",
        "            distances[:, i] = np.linalg.norm(X - centroids[i], axis=1)\n",
        "        \n",
        "        # Assign each sample to the nearest centroid\n",
        "        labels = np.argmin(distances, axis=1)\n",
        "        \n",
        "        # Update the centroids to be the mean of the samples assigned to them\n",
        "        for i in range(k):\n",
        "            X_i = X[labels == i]\n",
        "            if len(X_i) == 0:\n",
        "                centroids[i] = old_centroids[i]\n",
        "            else:\n",
        "                centroids[i] = np.mean(X_i, axis=0)\n",
        "        \n",
        "    return centroids"
      ]
    },
    {
      "cell_type": "code",
      "execution_count": null,
      "metadata": {
        "colab": {
          "base_uri": "https://localhost:8080/"
        },
        "id": "ykVHa0aAxzMj",
        "outputId": "d197b3f6-3c3c-4d47-d426-6c43a31a10a3"
      },
      "outputs": [
        {
          "name": "stdout",
          "output_type": "stream",
          "text": [
            "K: 7\n",
            "precision: 0.5277546466728182\n",
            "recall 0.9998039726904134\n",
            "cluster: 0 pre: 0.5276780890638265   rec: 1.0   f1: 0.6908236661130512\n",
            "cluster: 1 pre: 1.0   rec: 0.00019804267819715149   f1: 0.00039600693012127716\n",
            "cluster: 35 pre: 1.0   rec: 1.650355651642929e-05   f1: 3.300656830709311e-05\n",
            "cluster: 16 pre: 0.9285714285714286   rec: 0.0006436387041407423   f1: 0.001286385750803991\n",
            "cluster: 27 pre: 0.6666666666666666   rec: 6.601422606571717e-05   f1: 0.00013201537979174574\n",
            "f1_score 0.1385342161484151\n",
            "conditional_entropy 2.0068936057817357\n",
            "\n",
            "K: 15\n",
            "precision: 0.7577653530699711\n",
            "recall 0.7399829403933673\n",
            "cluster: 0 pre: 0.9902730437305098   rec: 0.6657220688520394   f1: 0.7961939191626914\n",
            "cluster: 1 pre: 0.5054631828978622   rec: 0.9690346083788707   f1: 0.6643771464252263\n",
            "cluster: 2 pre: 1.0   rec: 9.902133909857574e-05   f1: 0.0001980230696876186\n",
            "cluster: 35 pre: 0.6666666666666666   rec: 6.601422606571717e-05   f1: 0.00013201537979174574\n",
            "cluster: 3 pre: 1.0   rec: 1.650355651642929e-05   f1: 3.300656830709311e-05\n",
            "cluster: 5 pre: 0.9566326530612245   rec: 0.006188833693660984   f1: 0.012298106091661884\n",
            "cluster: 4 pre: 1.0   rec: 0.00014853200864786361   f1: 0.00029701990033332236\n",
            "cluster: 10 pre: 0.7623113279463333   rec: 1.0   f1: 0.8651267410675665\n",
            "cluster: 13 pre: 0.9302325581395349   rec: 0.0006601422606571716   f1: 0.0013193482419684675\n",
            "cluster: 14 pre: 0.45017851598882336   rec: 1.0   f1: 0.6208594473375758\n",
            "cluster: 16 pre: 0.9970368059887711   rec: 0.10550723680953246   f1: 0.19082158047906875\n",
            "cluster: 23 pre: 0.9888423988842399   rec: 0.011701021570148367   f1: 0.023128364051541346\n",
            "cluster: 29 pre: 0.9859600553687957   rec: 0.3342413660712653   f1: 0.4992399348255491\n",
            "f1_score 0.28261728096930533\n",
            "conditional_entropy 0.8833562086872855\n",
            "\n",
            "K: 23\n",
            "precision: 0.7901610460760892\n",
            "recall 0.6114968689675915\n",
            "cluster: 0 pre: 0.9638783269961977   rec: 0.6679841897233202   f1: 0.7891050583657587\n",
            "cluster: 2 pre: 0.9893740060719965   rec: 0.33364413648524294   f1: 0.49900878196393333\n",
            "cluster: 3 pre: 0.9973790802954491   rec: 0.069083887577773   f1: 0.12921747183207286\n",
            "cluster: 4 pre: 1.0   rec: 0.00014853200864786361   f1: 0.00029701990033332236\n",
            "cluster: 5 pre: 0.975   rec: 0.003861832224844454   f1: 0.0076931928394128185\n",
            "cluster: 6 pre: 0.6666666666666666   rec: 6.601422606571717e-05   f1: 0.00013201537979174574\n",
            "cluster: 7 pre: 0.4898029843687984   rec: 1.0   f1: 0.65754061376957\n",
            "cluster: 8 pre: 1.0   rec: 1.650355651642929e-05   f1: 3.300656830709311e-05\n",
            "cluster: 9 pre: 0.9925311203319502   rec: 0.019738253593649432   f1: 0.038706754263892036\n",
            "cluster: 10 pre: 0.6106194690265486   rec: 0.0011387453996336212   f1: 0.002273251408427503\n",
            "cluster: 12 pre: 0.9414634146341463   rec: 0.0031851864076708532   f1: 0.006348893055692622\n",
            "cluster: 13 pre: 0.5054631828978622   rec: 0.9690346083788707   f1: 0.6643771464252263\n",
            "cluster: 14 pre: 0.9270697404668696   rec: 0.1948309169911817   f1: 0.32199258722101365\n",
            "cluster: 16 pre: 0.9914893617021276   rec: 0.0038453286683280247   f1: 0.0076609456171499975\n",
            "cluster: 19 pre: 0.6666666666666666   rec: 0.0004753459970382288   f1: 0.000950014615609471\n",
            "cluster: 21 pre: 0.9999611761051869   rec: 0.47089115186085767   f1: 0.6402721212447641\n",
            "cluster: 27 pre: 0.9066183136899365   rec: 1.0   f1: 0.951022349025202\n",
            "cluster: 29 pre: 1.0   rec: 4.951066954928787e-05   f1: 9.901643672849693e-05\n",
            "cluster: 33 pre: 0.9230769230769231   rec: 0.00039608535639430297   f1: 0.000791830944093436\n",
            "cluster: 35 pre: 0.9259259259259259   rec: 0.0004125889129107323   f1: 0.0008248102936324646\n",
            "cluster: 37 pre: 0.9963599963599964   rec: 0.1806974402983843   f1: 0.30591489480595685\n",
            "f1_score 0.23925056076078902\n",
            "conditional_entropy 0.8261227019444994\n",
            "\n",
            "K: 31\n",
            "precision: 0.8221194808201164\n",
            "recall 0.5862766983816814\n",
            "cluster: 0 pre: 0.6616541353383458   rec: 0.0014523129734457776   f1: 0.0028982643348812705\n",
            "cluster: 1 pre: 0.5054631828978622   rec: 0.9690346083788707   f1: 0.6643771464252263\n",
            "cluster: 2 pre: 0.9887640449438202   rec: 0.0072615648672288875   f1: 0.014417248271568532\n",
            "cluster: 3 pre: 1.0   rec: 1.650355651642929e-05   f1: 3.300656830709311e-05\n",
            "cluster: 4 pre: 0.9411764705882353   rec: 0.00026405690426286867   f1: 0.000527965682230655\n",
            "cluster: 5 pre: 0.9414634146341463   rec: 0.0031851864076708532   f1: 0.006348893055692622\n",
            "cluster: 6 pre: 0.996995896834701   rec: 0.22456389351905334   f1: 0.3665629503912932\n",
            "cluster: 7 pre: 0.9976223499108381   rec: 0.08309540706022148   f1: 0.15341255332114564\n",
            "cluster: 8 pre: 0.5376835508751112   rec: 1.0   f1: 0.6993422678796428\n",
            "cluster: 9 pre: 0.8571428571428571   rec: 9.902133909857574e-05   f1: 0.000198019801980198\n",
            "cluster: 10 pre: 0.7604166666666666   rec: 0.00044487509979218847   f1: 0.0008892299633953967\n",
            "cluster: 11 pre: 0.9767441860465116   rec: 0.0006931493736900302   f1: 0.001385315654066891\n",
            "cluster: 12 pre: 1.0   rec: 4.951066954928787e-05   f1: 9.901643672849693e-05\n",
            "cluster: 13 pre: 1.0   rec: 0.00019804267819715149   f1: 0.00039600693012127716\n",
            "cluster: 14 pre: 0.6666666666666666   rec: 6.601422606571717e-05   f1: 0.00013201537979174574\n",
            "cluster: 15 pre: 0.9955156950672646   rec: 0.01465515818658921   f1: 0.028885093925347646\n",
            "cluster: 16 pre: 0.6871297792137857   rec: 0.7813839559093693   f1: 0.7312320916905444\n",
            "cluster: 17 pre: 1.0   rec: 0.00013202845213143433   f1: 0.00026402204584082776\n",
            "cluster: 18 pre: 0.9999610146584884   rec: 0.4689410144371111   f1: 0.6384669955153229\n",
            "cluster: 19 pre: 0.9270477448250122   rec: 0.1967810544149283   f1: 0.3246498627602779\n",
            "cluster: 20 pre: 1.0   rec: 4.951066954928787e-05   f1: 9.901643672849693e-05\n",
            "cluster: 21 pre: 0.9694072657743786   rec: 0.6679841897233202   f1: 0.7909516380655227\n",
            "cluster: 23 pre: 0.9066183136899365   rec: 1.0   f1: 0.951022349025202\n",
            "cluster: 25 pre: 0.9752066115702479   rec: 0.0038948393378773127   f1: 0.007758691542697461\n",
            "cluster: 26 pre: 0.9971088981689689   rec: 0.051227039426996517   f1: 0.09744765014284369\n",
            "cluster: 27 pre: 0.989247311827957   rec: 0.0030366543990229893   f1: 0.006054722848352226\n",
            "cluster: 35 pre: 0.6818181818181818   rec: 0.00024755334774643936   f1: 0.0004949269982677555\n",
            "cluster: 36 pre: 0.9968717413972888   rec: 0.0315548000594128   f1: 0.06117323351090208\n",
            "cluster: 37 pre: 0.9894987980551991   rec: 0.3336319481263445   f1: 0.49901102006216447\n",
            "f1_score 0.20857004188503747\n",
            "conditional_entropy 0.741963726689884\n",
            "\n",
            "K: 45\n",
            "precision: 0.9118378029058384\n",
            "recall 0.49007305855389627\n",
            "cluster: 0 pre: 0.9460146626842092   rec: 0.4671066664228995   f1: 0.6254095050038145\n",
            "cluster: 1 pre: 0.5054631828978622   rec: 0.9690346083788707   f1: 0.6643771464252263\n",
            "cluster: 2 pre: 0.91324200913242   rec: 1.0   f1: 0.954653937947494\n",
            "cluster: 3 pre: 1.0   rec: 4.951066954928787e-05   f1: 9.901643672849693e-05\n",
            "cluster: 5 pre: 0.945273631840796   rec: 0.0031356757381215653   f1: 0.00625061683718788\n",
            "cluster: 6 pre: 0.8571428571428571   rec: 9.902133909857574e-05   f1: 0.000198019801980198\n",
            "cluster: 7 pre: 0.9901606135146868   rec: 0.3336197597674461   f1: 0.4990814982290921\n",
            "cluster: 8 pre: 0.6   rec: 1.8282538347624186e-05   f1: 3.656396255850235e-05\n",
            "cluster: 9 pre: 0.5454545454545454   rec: 3.656507669524837e-05   f1: 7.312525136805159e-05\n",
            "cluster: 10 pre: 0.9982293050022134   rec: 0.03721551994454805   f1: 0.07175587093489469\n",
            "cluster: 11 pre: 0.9880239520958084   rec: 0.005446173650421666   f1: 0.010832635777241617\n",
            "cluster: 12 pre: 0.9914919477362504   rec: 0.19885307542765904   f1: 0.3312673539728224\n",
            "cluster: 13 pre: 0.9873417721518988   rec: 0.0025745548165629693   f1: 0.005135717930569044\n",
            "cluster: 14 pre: 0.9360764499830506   rec: 0.9997931070153963   f1: 0.9668862025844103\n",
            "cluster: 15 pre: 0.9672131147540983   rec: 0.0029211295034079843   f1: 0.005824667631959984\n",
            "cluster: 16 pre: 0.6112869331847989   rec: 0.3984618685326688   f1: 0.48244579878109706\n",
            "cluster: 17 pre: 0.7368421052631579   rec: 0.0003412740491556514   f1: 0.0006822321172951933\n",
            "cluster: 18 pre: 0.9213483146067416   rec: 0.004059874903041606   f1: 0.008084127505750905\n",
            "cluster: 19 pre: 0.9080213903743316   rec: 0.014011519482448468   f1: 0.027597191522558833\n",
            "cluster: 20 pre: 1.0   rec: 0.00013202845213143433   f1: 0.00026402204584082776\n",
            "cluster: 21 pre: 0.9825581395348837   rec: 0.6679841897233202   f1: 0.7952941176470588\n",
            "cluster: 22 pre: 0.9972770592239619   rec: 0.02417771029656891   f1: 0.047210853662466565\n",
            "cluster: 23 pre: 0.9949021207177814   rec: 0.08052085224365851   f1: 0.1489839229277677\n",
            "cluster: 24 pre: 0.9347826086956522   rec: 0.0007096529302064595   f1: 0.0014182291924339121\n",
            "cluster: 25 pre: 0.6838674633351439   rec: 0.7709736680955297   f1: 0.7248128957973519\n",
            "cluster: 26 pre: 0.9972943722943723   rec: 0.030416054659779184   f1: 0.05903172594929614\n",
            "cluster: 27 pre: 0.9982422733264977   rec: 0.11247173765946561   f1: 0.2021655295164639\n",
            "cluster: 28 pre: 0.8333333333333334   rec: 0.0001650355651642929   f1: 0.00033000577510106425\n",
            "cluster: 29 pre: 1.0   rec: 3.300711303285858e-05   f1: 6.601204719861376e-05\n",
            "cluster: 30 pre: 0.9230769230769231   rec: 0.00019804267819715149   f1: 0.000396000396000396\n",
            "cluster: 31 pre: 1.0   rec: 0.00011552489561500504   f1: 0.00023102310231023102\n",
            "cluster: 32 pre: 0.9991197183098591   rec: 0.018731536646147243   f1: 0.03677363961833174\n",
            "cluster: 33 pre: 0.93553755686231   rec: 0.13915798854653177   f1: 0.24227796454328646\n",
            "cluster: 34 pre: 1.0   rec: 0.0008416813823378938   f1: 0.0016819471011147022\n",
            "cluster: 35 pre: 0.6666666666666666   rec: 6.601422606571717e-05   f1: 0.00013201537979174574\n",
            "cluster: 36 pre: 1.0   rec: 1.650355651642929e-05   f1: 3.300656830709311e-05\n",
            "cluster: 37 pre: 0.9922360248447205   rec: 0.010545772613998316   f1: 0.02086973561735552\n",
            "f1_score 0.18763956420382505\n",
            "conditional_entropy 0.46028297163322973\n",
            "\n"
          ]
        }
      ],
      "source": [
        "from sklearn.metrics.cluster import contingency_matrix\n",
        "from scipy.optimize import linear_sum_assignment\n",
        "\n",
        "labels = []\n",
        "train = np.array(num_training_10)\n",
        "test = np.array(num_testing_10)\n",
        "results = []\n",
        "for K in [7,15,23,31,45]:\n",
        "    centroids = k_means(train, K, 0.001)\n",
        "    distances = np.linalg.norm(test[:, np.newaxis, :] - centroids, axis=2)\n",
        "    labels = np.argmin(distances, axis=1)\n",
        "    contingency = contingency_matrix(num_tslabels_10, labels)\n",
        "    row_ind, col_ind = linear_sum_assignment(-contingency)\n",
        "    y_pred = np.zeros_like(labels)\n",
        "    for i, j in zip(row_ind, col_ind):\n",
        "        y_pred[labels == j] = i\n",
        "    print(\"K:\",K)       \n",
        "    print(\"precision:\",precision(y_pred.tolist(), num_tslabels.tolist()))\n",
        "    print(\"recall\",recall(y_pred.tolist(), num_tslabels.tolist()))\n",
        "    print(\"f1_score\",f1(y_pred.tolist(), num_tslabels.tolist()))\n",
        "    print(\"conditional_entropy\",conditional_entropy(y_pred.tolist(), num_tslabels.tolist()))\n",
        "    print()"
      ]
    },
    {
      "cell_type": "markdown",
      "metadata": {
        "id": "ADlJM66mhxkn"
      },
      "source": [
        "# Normalized Cut"
      ]
    },
    {
      "cell_type": "code",
      "execution_count": 7,
      "metadata": {
        "id": "QGWFODpJhzQY"
      },
      "outputs": [],
      "source": [
        "from sklearn.cluster import KMeans\n",
        "from sklearn.metrics.pairwise import cosine_similarity\n",
        "from sklearn.model_selection import train_test_split as tts\n",
        "import numpy as np\n",
        "\n",
        "np.random.seed(42)\n",
        "\n",
        "\n",
        "def vecsort(vectors, values):\n",
        "    \"\"\"\n",
        "    Sorts vectors based on values.\n",
        "\n",
        "    Args:\n",
        "        vectors (nparray): nparray of vectors to be sorted.\n",
        "        values (nparray): nparray of values to be used to sort.\n",
        "\n",
        "    Returns:\n",
        "        nparray: nparray of sorted vectors with respect to values.\n",
        "    \"\"\"\n",
        "    return vectors[:, np.argsort(values)[::]]\n",
        "\n",
        "\n",
        "def norm(data):\n",
        "    \"\"\"\n",
        "    Normalizes a data matrix.\n",
        "\n",
        "    Args:\n",
        "        data (nparray): array of numbers.\n",
        "\n",
        "    Returns:\n",
        "        normalized: nparray of the normalized array result after normalizing the data matrix.\n",
        "    \"\"\"\n",
        "    normalized = []\n",
        "    for row in data:\n",
        "        normalized.append(row / np.linalg.norm(row))\n",
        "    return np.array(normalized)\n",
        "\n",
        "\n",
        "def ncut(training_data, k):\n",
        "    \"\"\"\n",
        "    Splits the data into a training set and testing set with ratio 0.15% for training dataset,\n",
        "    then applies the normalized cut algorithm on the reduced training dataset.\n",
        "\n",
        "    Args:\n",
        "        data (pd.DataFrame): pd.DataFrame containing the original dataset.\n",
        "        k (int): number of clusters.\n",
        "\n",
        "    Returns:\n",
        "        predicted, true: nparrays of predicted labels after applying the normalized cut algorithm and the true labels.\n",
        "    \"\"\"\n",
        "    training = tts(training_data, random_state=42, train_size=0.0015)[0]\n",
        "    \n",
        "    # Get the true labels\n",
        "    true = training.iloc[:, 41].values\n",
        "\n",
        "    # Convert the data into numpy arrays\n",
        "    training = np.array(training)\n",
        "\n",
        "    # Construct the similarity graph\n",
        "    S = cosine_similarity(training)\n",
        "\n",
        "    # Construct the degree matrix\n",
        "    degrees = np.sum(S, axis=1)\n",
        "    D = np.diag(degrees)\n",
        "\n",
        "    # Compute Laplacian Matrix\n",
        "    L = D - S\n",
        "\n",
        "    # Compute sorted eigenvectors of the Laplacian Matrix then normalize them\n",
        "    values, vectors = np.linalg.eigh(L)\n",
        "    eigvectors = vecsort(vectors, values)\n",
        "\n",
        "    normalized = norm(eigvectors[:, :k])\n",
        "\n",
        "    # Perform K-means clustering on eigenvectors\n",
        "    centroids = k_means(normalized, k, 0.01)\n",
        "    distances = np.linalg.norm(normalized[:, np.newaxis, :] - centroids, axis=2)\n",
        "    predicted = np.argmin(distances, axis=1)\n",
        "\n",
        "    return predicted, true\n"
      ]
    },
    {
      "cell_type": "code",
      "execution_count": 8,
      "metadata": {
        "id": "s21VpErSvWjc"
      },
      "outputs": [],
      "source": [
        "num_training['labels'] = num_trlabels\n",
        "ncut_clustering = ncut(num_training, 11)\n",
        "ncut_predicted = np.array(ncut_clustering[0])\n",
        "ncut_true = np.array(ncut_clustering[1])"
      ]
    },
    {
      "cell_type": "code",
      "execution_count": 15,
      "metadata": {
        "colab": {
          "base_uri": "https://localhost:8080/"
        },
        "id": "oJ7o3SbBZPNz",
        "outputId": "b7a67e9c-e2f9-4a30-cb22-3b6cb12058d8"
      },
      "outputs": [
        {
          "output_type": "stream",
          "name": "stdout",
          "text": [
            "Precision: 0.9052674561045325\n",
            "Recall 0.6246432642308797\n",
            "cluster: 0 pre: 0.8695652173913043   rec: 0.013917884481558803   f1: 0.0273972602739726\n",
            "cluster: 1 pre: 0.9955947136563876   rec: 0.15727209464161448   f1: 0.2716346153846154\n",
            "cluster: 2 pre: 0.9895287958115183   rec: 0.1315240083507307   f1: 0.23218673218673222\n",
            "cluster: 3 pre: 0.963963963963964   rec: 0.1489213639526792   f1: 0.2579867389993972\n",
            "cluster: 4 pre: 0.94   rec: 0.09812108559498957   f1: 0.17769376181474478\n",
            "cluster: 5 pre: 0.9756980351602895   rec: 0.8848769050410317   f1: 0.9280708225746956\n",
            "cluster: 6 pre: 0.8610421836228288   rec: 0.44430217669654287   f1: 0.5861486486486486\n",
            "cluster: 7 pre: 0.7046109510086456   rec: 0.11465416178194607   f1: 0.19721718088324258\n",
            "cluster: 8 pre: 1.0   rec: 0.0048712595685455815   f1: 0.009695290858725763\n",
            "cluster: 9 pre: 0.7666963490650045   rec: 0.5512163892445583   f1: 0.641340782122905\n",
            "cluster: 10 pre: 1.0   rec: 0.025052192066805846   f1: 0.048879837067209775\n",
            "F1 Measure 0.3071137882558991\n",
            "Conditional Entropy 0.41795907903620577\n"
          ]
        }
      ],
      "source": [
        "print(\"Precision:\", precision(ncut_predicted.tolist(), ncut_true.tolist()))\n",
        "print(\"Recall\", recall(ncut_predicted.tolist(), ncut_true.tolist()))\n",
        "print(\"F1 Measure\",f1(ncut_predicted.tolist(), ncut_true.tolist()))\n",
        "print(\"Conditional Entropy\",conditional_entropy(ncut_predicted.tolist(), ncut_true.tolist()))"
      ]
    },
    {
      "cell_type": "markdown",
      "metadata": {
        "id": "EV87vuRmiuv_"
      },
      "source": [
        "# Evaluation"
      ]
    },
    {
      "cell_type": "code",
      "execution_count": 10,
      "metadata": {
        "id": "g3bZvO9gvkFT"
      },
      "outputs": [],
      "source": [
        "def clusterize(pred_labels, true_labels):\n",
        "    if len(pred_labels) != len(true_labels):\n",
        "        raise ValueError(\"The two list should be equal\")\n",
        "    clusters_set = set(pred_labels)\n",
        "    # num_clusters = len(set(pred_labels))\n",
        "    clusters = {}\n",
        "    for cluster in clusters_set:\n",
        "        clusters[cluster] = []\n",
        "    for i in range(len(pred_labels)):\n",
        "        clusters[pred_labels[i]].append(true_labels[i])\n",
        "    return clusters, clusters_set"
      ]
    },
    {
      "cell_type": "code",
      "execution_count": 11,
      "metadata": {
        "id": "1cWxcLqXvncD"
      },
      "outputs": [],
      "source": [
        "def precision(pred_labels, true_labels):\n",
        "    clusters, clusters_set = clusterize(pred_labels, true_labels)\n",
        "    res = 0\n",
        "    for cluster in clusters_set:\n",
        "        most_common = max(set(clusters[cluster]), key = clusters[cluster].count)\n",
        "        count = clusters[cluster].count(most_common)\n",
        "        res += (len(clusters[cluster]) / len(true_labels)) * (count / len(clusters[cluster]))\n",
        "    return res"
      ]
    },
    {
      "cell_type": "code",
      "execution_count": 12,
      "metadata": {
        "id": "B0dMIPVYvrH7"
      },
      "outputs": [],
      "source": [
        "def recall(pred_labels, true_labels):\n",
        "    clusters, clusters_set = clusterize(pred_labels, true_labels)\n",
        "    res = 0\n",
        "    r = len(clusters_set)\n",
        "    for cluster in clusters_set:\n",
        "        most_common = max(set(clusters[cluster]), key = clusters[cluster].count)\n",
        "        count = clusters[cluster].count(most_common)\n",
        "        count_total = true_labels.count(most_common)\n",
        "        res += (len(clusters[cluster]) / len(true_labels)) * (count / count_total)\n",
        "    return res"
      ]
    },
    {
      "cell_type": "code",
      "execution_count": 13,
      "metadata": {
        "id": "n0NiS4XPvvbD"
      },
      "outputs": [],
      "source": [
        "def f1(pred_labels, true_labels):\n",
        "    clusters, clusters_set = clusterize(pred_labels, true_labels)\n",
        "    res = 0\n",
        "    r = len(clusters_set)\n",
        "    for cluster in clusters_set:\n",
        "        most_common = max(set(clusters[cluster]), key = clusters[cluster].count)\n",
        "        count = clusters[cluster].count(most_common)\n",
        "        count_total = true_labels.count(most_common)\n",
        "        precision =  count / len(clusters[cluster])\n",
        "        recall = count / count_total\n",
        "        f1 = (2 * precision * recall) / (precision + recall)\n",
        "        print(f\"cluster: {cluster} pre: {precision}   rec: {recall}   f1: {f1}\")\n",
        "        res += (float(f1) / float(r))\n",
        "    return res"
      ]
    },
    {
      "cell_type": "code",
      "execution_count": 14,
      "metadata": {
        "id": "MIpWT3d3vyC8"
      },
      "outputs": [],
      "source": [
        "from math import log2\n",
        "def conditional_entropy(pred_labels, true_labels):\n",
        "    clusters, clusters_set = clusterize(pred_labels, true_labels)\n",
        "    res = 0\n",
        "    true_labels_set = set(true_labels)\n",
        "    for cluster in clusters_set:\n",
        "        temp = 0\n",
        "        for t in true_labels_set:\n",
        "            t_count = clusters[cluster].count(t)\n",
        "            if t_count != 0:\n",
        "                temp += -(t_count / len(clusters[cluster])) * log2(t_count / len(clusters[cluster]))\n",
        "        res += (len(clusters[cluster]) / len(true_labels)) * temp\n",
        "    return res"
      ]
    },
    {
      "cell_type": "markdown",
      "metadata": {
        "id": "TX_khxtli9nP"
      },
      "source": [
        "# DBSCAN"
      ]
    },
    {
      "cell_type": "code",
      "execution_count": 6,
      "metadata": {
        "id": "pSp4YrKSjAnn"
      },
      "outputs": [],
      "source": [
        "vis = []\n",
        "my_dict = {}\n",
        "def dbscan(data, eps, min_samples):\n",
        "    X = data.values\n",
        "    global vis\n",
        "    global my_dict\n",
        "    vis = [0] * len(X)\n",
        "    my_dict = {i: [] for i in range(len(X))}\n",
        "    labels = [0] * len(X)\n",
        "    cluster_id = 0\n",
        "    for i in range(len(X)):\n",
        "        if labels[i] != 0:\n",
        "            continue            \n",
        "        # Find all neighbors of the current point within eps distance\n",
        "        neighbors = get_neighbors(X, i, eps)       \n",
        "        # If the point is not a core point, mark it as an outlier\n",
        "        if len(neighbors) < min_samples:\n",
        "            labels[i] = -1\n",
        "            continue       \n",
        "        # Expand the cluster starting from the current core point\n",
        "        cluster_id += 1\n",
        "        labels[i] = cluster_id\n",
        "        \n",
        "        expand_cluster(X, labels, i, neighbors, eps, min_samples, cluster_id)\n",
        "    \n",
        "    return labels\n",
        "\n",
        "def expand_cluster(X, labels, i, neighbors, eps, min_samples, cluster_id):\n",
        "    \"\"\"\n",
        "    This function expands cluster for the ith \n",
        "    \"\"\"\n",
        "    # Loop over each neighbor of the core point\n",
        "    for j in neighbors:\n",
        "        if labels[j] == -1:\n",
        "            labels[j] = cluster_id\n",
        "        elif labels[j] == 0:\n",
        "            labels[j] = cluster_id        \n",
        "            # Find all neighbors of the current point within eps distance\n",
        "            new_neighbors = get_neighbors(X, j, eps)        \n",
        "            # If the point is a core point, add its neighbors to the list of neighbors\n",
        "            if len(new_neighbors) >= min_samples:\n",
        "                neighbors += new_neighbors\n",
        "\n",
        "def get_neighbors(X, i, eps):\n",
        "    \"\"\"\n",
        "    Thsis functions gets the neighbour for ith instance within given epsilon\n",
        "    \"\"\"\n",
        "    global vis\n",
        "    global my_dict\n",
        "    if vis[i] == 1:\n",
        "        return my_dict[i]\n",
        "    neighbors = []\n",
        "    for j in range(len(X)):\n",
        "        if i == j:\n",
        "            continue\n",
        "            \n",
        "        dist = np.linalg.norm(X[i] - X[j])\n",
        "        if dist <= eps:\n",
        "            neighbors.append(j)\n",
        "    vis[i] = 1\n",
        "    my_dict[i] = neighbors\n",
        "    return neighbors"
      ]
    },
    {
      "cell_type": "code",
      "execution_count": 7,
      "metadata": {
        "colab": {
          "base_uri": "https://localhost:8080/"
        },
        "id": "ErnzhLAZjC0X",
        "outputId": "a5afdc3b-af12-4036-c1b1-a562f036493b"
      },
      "outputs": [
        {
          "output_type": "stream",
          "name": "stdout",
          "text": [
            "Training set size: 7347\n"
          ]
        }
      ],
      "source": [
        "from sklearn.model_selection import train_test_split\n",
        "num_training['labels'] = num_trlabels\n",
        "train_data_copy, test_data = train_test_split(num_training, train_size=0.0015, random_state=42)\n",
        "train_labels = np.array(train_data_copy.iloc[:, -1])\n",
        "print(f\"Training set size: {len(train_data_copy)}\")"
      ]
    },
    {
      "cell_type": "code",
      "execution_count": 8,
      "metadata": {
        "colab": {
          "base_uri": "https://localhost:8080/"
        },
        "id": "0EVHwgBpjE6_",
        "outputId": "a766b2eb-9092-4175-bd08-4ab59f364d55"
      },
      "outputs": [
        {
          "output_type": "stream",
          "name": "stdout",
          "text": [
            "[1, 2, 1, 2, 1, 3, 1, -1, 1, 1, 3, 3, 1, 1, -1, 3, 1, 1, 2, 1, 1, 1, 2, 1, 3, 4, 3, 3, 2, -1, 3, 1, 1, 3, 3, -1, 1, 3, -1, -1, 1, 1, 1, 1, 1, 5, 1, 1, -1, 3, 2, -1, -1, 1, 1, -1, 1, 3, -1, 3, 3, 1, 1, 3, 1, -1, -1, 1, 2, 2, 1, -1, 3, 1, -1, 3, 3, 1, 1, -1, 1, 1, 2, -1, -1, 3, 2, 1, 1, 3, 1, 1, 1, 3, 1, 3, 3, -1, 1, 3, 1, 3, 1, 3, 1, 1, 2, 1, -1, -1, 3, 3, -1, 1, 1, 1, -1, 1, 1, 1, 3, 1, 3, 2, 3, -1, 1, 2, -1, 3, 1, 3, 1, 3, 3, -1, 1, 1, 1, 3, -1, -1, 6, 1, 1, 3, -1, 3, 2, -1, 3, 1, -1, 3, 1, 1, 1, -1, 2, 1, 1, 1, 3, 1, 3, 1, -1, 1, -1, 3, -1, 4, 3, 1, 3, 1, 3, 2, 3, 2, 1, 4, 1, -1, 1, 1, 3, 1, 1, 1, 2, 1, 1, 2, 2, 1, 3, 2, -1, 1, -1, 1, 1, 3, 1, -1, 3, 2, 3, 1, 1, 1, 1, 3, 1, 1, 1, 1, 1, 3, 1, 1, 3, -1, 1, 2, 2, 2, -1, 1, 3, 2, 1, 2, 2, 1, 1, 3, 1, 1, 1, 3, 1, 1, 1, 1, 1, 1, -1, 3, 2, 1, 3, 3, -1, 1, -1, 1, 3, 3, 1, -1, 17, 1, 4, -1, 1, 3, 7, 2, 3, -1, 1, 2, -1, 1, 3, 1, -1, 1, -1, 4, 1, 1, 1, -1, 3, 1, 3, 6, -1, 3, -1, -1, 3, 1, 1, 1, -1, 3, 8, 1, 1, 1, 1, 2, 1, 1, -1, 2, -1, -1, -1, 2, 2, 3, 3, -1, 1, 1, 1, -1, 3, 1, -1, 1, 3, 1, 1, 2, -1, 1, 2, 1, 3, 1, 1, 2, 1, 3, 1, 1, 3, 2, 2, 1, 3, 2, 3, 1, 3, 2, -1, 1, 1, 1, 1, 1, -1, 1, 1, 1, 1, 1, 1, -1, 1, -1, 2, 2, 3, -1, 1, 1, 2, 1, 1, 1, 2, 1, -1, 1, -1, 1, 1, 1, 1, 1, 1, 1, -1, 1, 1, -1, 3, 1, 3, -1, 2, 3, 1, 1, 1, 1, 1, 3, 1, 3, 3, 2, 1, -1, 1, 1, 1, -1, 1, 1, 1, -1, 3, 1, 3, 1, 2, -1, -1, 1, 1, 2, 2, 3, 1, -1, 3, 3, 1, -1, 3, 1, 1, 2, 2, -1, -1, 1, 1, 1, 3, 2, 3, 1, 1, 1, 1, 1, 3, 1, 1, -1, 2, 4, 3, -1, 1, 1, 1, 1, 3, -1, 1, -1, 3, -1, 1, -1, 3, 1, 1, 1, -1, 2, 3, 1, 1, 3, 3, 1, -1, 1, 1, 2, 2, 7, 3, 1, 1, 1, -1, 1, 1, -1, 3, -1, 1, 1, -1, 1, 1, 1, 2, 1, 1, 1, -1, -1, 3, 3, 1, 1, 3, 1, 4, -1, -1, -1, 1, 1, 1, 1, 3, 1, 2, 1, 3, 3, 4, -1, 1, 3, 1, -1, 1, 3, 3, 1, 1, 1, 1, 2, 1, -1, 7, 2, 1, 1, 2, 1, 3, 3, 1, 2, -1, 2, 1, 1, 1, 3, 1, 1, 1, -1, 1, 3, 1, 1, 3, 8, 2, 3, 1, 2, 1, 1, 1, 1, 1, -1, 1, 1, -1, 3, 8, 3, 1, 1, 1, 1, -1, 3, 1, 1, 1, 1, 1, 1, 1, 1, 1, 3, 3, 3, 3, 7, 2, -1, -1, 1, 1, 1, -1, 3, 2, 1, 2, 3, 1, 1, -1, 2, -1, 2, 1, 1, 1, 1, 2, 1, 2, 1, -1, 1, 1, 1, 8, 1, -1, -1, 2, 3, 3, 1, 1, 3, 1, 3, 3, -1, 7, 3, 1, 1, 3, -1, 1, 2, 1, 9, 1, 3, -1, 1, 1, 1, 1, 1, 1, 1, 1, 1, -1, -1, -1, 1, 1, 2, 3, 1, 2, 1, 3, 1, 3, 2, 1, 1, 1, 1, 3, 3, 1, 2, 1, 1, 1, 3, 2, 2, 1, -1, 1, 2, 3, 1, 2, 1, 4, 2, 3, -1, 2, 1, 1, 1, 3, 1, 1, 3, -1, 1, 1, 1, 1, -1, 1, -1, 1, 1, 1, 2, 1, 4, 1, 2, -1, 1, 1, 1, 1, 1, 1, -1, 1, 1, 1, 1, -1, 1, 1, 3, -1, 1, -1, -1, -1, 1, 1, 1, 1, 1, 1, 1, 1, 7, 3, 1, 1, -1, 1, 1, 2, 1, 3, 1, 1, 3, -1, -1, 2, 1, -1, 3, 3, 2, 1, 3, 3, 2, 1, 1, 1, 10, 2, 1, 3, 1, 7, -1, 1, 3, 6, 3, 1, 2, 1, -1, 1, 2, 2, 3, 1, 1, 3, 1, -1, 3, 3, 1, 1, 1, 8, 3, 1, 3, 3, 3, 1, 9, 3, 1, 3, 1, 3, -1, 1, 2, 3, 1, 1, -1, 3, 1, 3, 1, 3, 3, 2, 3, 1, 1, 1, 1, 3, 2, -1, -1, -1, 1, 1, 1, 1, 10, 2, 1, 2, 3, 3, 1, 3, 2, 3, -1, 1, 1, 3, -1, 1, 4, 1, -1, -1, 3, 3, -1, 1, 1, 2, 3, 1, -1, 3, 2, -1, 7, -1, 2, -1, 1, 1, 1, 2, 3, 3, 3, 8, 1, -1, 2, 1, -1, 1, 1, 1, -1, 3, 1, 3, 3, 1, 1, 3, 1, -1, -1, 1, 1, 3, -1, 2, -1, 7, 1, 2, 3, 2, 1, 1, 2, 2, 1, 1, 1, 8, 3, 1, 4, 1, 1, 2, 2, 3, 3, -1, 3, 1, 2, -1, -1, 2, 1, -1, 1, 1, 3, 1, -1, 1, 3, 9, 1, 3, 1, 1, -1, 1, 1, 1, 2, 1, 1, 2, 3, 1, 1, 3, 2, 1, 1, 1, 1, 1, 1, 1, -1, 3, 3, 1, 1, 1, -1, 2, -1, 4, 3, 6, 8, 5, 3, -1, 2, 3, 1, 3, 1, -1, -1, 1, 3, 2, 1, 1, 2, -1, 2, 1, 1, -1, 3, 2, 3, 1, 1, 1, 4, 1, 1, 2, 3, 3, 1, -1, 3, 1, 1, 1, 8, -1, 1, 2, 1, 1, 3, 3, -1, 1, 3, 1, 1, 7, 2, -1, 3, 3, -1, -1, 3, 1, -1, 3, 3, 6, -1, -1, 1, 2, 3, 1, 1, -1, -1, 1, -1, 3, -1, -1, 10, 1, 3, 1, 1, 1, 3, 1, -1, -1, -1, 1, 1, -1, 3, -1, 1, 1, 3, 3, -1, 3, 2, 3, 1, 4, 1, 1, 3, 1, 1, 3, 1, 2, 1, 1, 3, 1, 2, 3, -1, 3, 3, 3, 1, -1, 1, 3, 3, 4, 1, 1, 2, 3, -1, -1, 2, 1, 4, 1, 1, 3, 1, 1, 3, 3, 1, -1, 1, 2, 1, 1, 2, 1, 3, 1, 1, -1, 3, -1, 1, 1, 1, 3, 1, 1, 1, 2, -1, 1, 3, 6, 1, 1, 1, -1, 1, 3, 1, 1, 2, -1, -1, 1, 3, 1, -1, 1, 1, 1, 2, -1, 1, 8, 1, 3, 2, 1, 3, 1, 1, 1, 3, 1, 3, -1, 2, 1, 2, 1, 1, 1, 2, 3, 1, 1, 1, 1, -1, 3, 3, 1, 9, -1, 3, -1, 3, 2, -1, -1, -1, 3, 1, 3, -1, 1, 1, 3, 1, 1, 1, -1, 3, 1, 2, 2, -1, 1, 1, -1, 3, 3, -1, 1, 4, 3, 3, 1, -1, -1, 1, 1, 1, 1, 3, 1, 1, 10, 3, 2, 1, -1, -1, 1, 3, 7, -1, 1, -1, 3, 1, 1, 17, 1, 1, 1, 2, 10, 1, -1, 1, 1, 1, 2, 3, 1, 2, -1, 1, 3, 3, -1, 2, 3, 14, -1, 1, 1, 1, -1, 1, 1, 3, -1, 1, 1, 3, -1, 3, 1, 3, 1, 3, 1, 3, -1, 3, 1, 1, 3, 1, 2, 3, 1, 2, 2, 1, -1, 1, 2, 2, 1, 3, 1, -1, 3, 1, -1, 1, 1, 1, 1, -1, 1, 1, -1, 1, 1, 1, 3, 1, -1, 1, 1, 3, 1, -1, 1, 2, 1, 3, 1, -1, -1, -1, 3, 2, 1, -1, -1, 1, 3, 7, 1, 1, 2, 1, 2, 1, 1, -1, 1, -1, 1, 3, 2, 1, 1, -1, 2, -1, 3, 2, 3, -1, -1, 3, 1, 1, 1, 1, 3, 1, 2, 1, 3, -1, 1, 1, 1, 1, -1, 1, -1, -1, 1, -1, 2, -1, 1, 1, -1, 2, 2, 1, 3, 1, 1, 3, 1, 3, 1, 3, 1, 3, 1, 1, 1, 1, 1, -1, 3, 3, 1, 1, 1, 3, 1, 11, -1, 1, 1, -1, 1, 3, 3, 1, 1, 1, 1, 3, 1, 1, 2, 2, 1, 1, 1, 3, 1, 7, 1, 3, 4, 3, 1, 3, 1, -1, 1, 1, 7, 1, -1, 3, 1, 3, -1, 3, 3, 1, -1, 1, 2, 1, 2, -1, 3, 8, -1, 2, 3, 2, -1, 1, 3, 1, 1, 3, 3, 1, 1, 1, 1, 3, 1, -1, 1, 1, -1, 1, 1, 3, -1, 1, 3, 2, 3, 1, 3, 5, 3, 1, 1, -1, 1, 3, -1, -1, -1, 3, 8, 12, -1, 1, 1, -1, 1, 4, 2, 3, 1, 1, 1, -1, -1, 2, 2, 3, 1, 1, 2, 1, 3, 3, 1, 3, 1, -1, 1, 3, 1, 1, 1, -1, 1, -1, 3, 1, 2, 1, 1, 3, -1, 2, 1, 1, -1, 1, 1, 1, 1, 1, -1, 1, 3, 3, 2, 3, 3, 1, 1, -1, 1, 1, 1, 3, -1, 3, 1, 1, -1, 7, -1, 9, 1, -1, 1, -1, 3, 3, -1, 3, 2, -1, 2, -1, 1, 1, 1, 1, 3, 3, -1, 1, 1, 2, -1, -1, 3, 5, 10, -1, 1, -1, 1, 1, 2, 3, 1, 1, 1, 1, 2, -1, 4, 1, 2, 1, 1, 4, -1, 1, -1, 3, 3, 3, 1, 2, 3, 1, 1, 3, 1, 13, 2, 1, 1, 1, 1, 3, 2, 1, 1, 1, -1, -1, 1, 1, 3, 7, -1, 1, -1, 1, 1, 1, 3, 1, 1, 1, 1, 3, 1, 3, 1, -1, 2, 1, 3, 1, 1, 1, 3, -1, 1, 3, 1, 1, 3, 1, 1, 1, 1, 3, 3, -1, 2, 2, -1, 1, -1, 1, 3, 1, 1, 1, 2, 1, -1, -1, 3, 1, 2, 1, 1, -1, -1, 1, 1, 1, 3, -1, 3, 3, 1, -1, 2, 1, 3, 1, 1, -1, 1, 3, -1, 1, 1, -1, -1, -1, 1, 3, 3, -1, 3, 1, 2, 2, 3, 1, 3, 3, 1, 1, 1, 2, 1, 1, 3, 1, 1, 1, 1, 2, -1, -1, 1, -1, 1, 3, 1, 1, 1, 3, 1, 1, 1, 1, 3, 4, 14, 1, 3, 1, 2, 3, 3, 2, 3, 3, 1, 3, 3, 1, 1, 1, -1, 1, 3, -1, -1, 1, 1, 3, -1, 1, 3, 3, 3, 1, 3, 1, 3, 3, 2, 3, 1, 3, 1, 1, -1, -1, 1, -1, 1, 2, 1, 3, 1, 1, -1, 3, 1, 2, 1, 2, 1, 1, 1, 1, -1, 3, 1, -1, 2, -1, 3, 3, -1, 1, 3, -1, 2, 2, 1, 1, 3, 2, 1, 1, 1, 2, 1, -1, 1, 1, 1, 2, 1, 1, -1, 1, 1, -1, 1, 1, 1, 1, -1, 1, 3, -1, 2, 3, 1, 3, 1, 1, -1, 1, -1, -1, 3, 1, -1, 1, 1, 3, 2, 3, 1, 1, 1, 3, 1, 3, 1, 1, -1, 1, 3, 1, 3, -1, 1, 1, 1, 3, 1, -1, 2, 1, 3, 7, 1, -1, 3, 7, 3, 1, 2, -1, -1, 3, 1, 3, 2, 1, 1, 2, 1, 1, 1, 1, 1, 1, 3, 3, -1, 2, 1, 1, 1, 3, 3, 2, 5, -1, 2, 2, 3, 1, 1, 1, 1, 3, 1, 3, 1, 3, 2, 1, 4, 3, 2, 1, 1, 3, 1, 2, 3, 2, 1, -1, 1, -1, 3, 1, -1, 1, 1, 3, 19, 3, -1, 1, 3, 2, 4, 3, 3, 1, 1, 1, 3, 1, 1, -1, 1, 2, 3, 3, 1, 1, 1, 1, 1, -1, 1, 8, 3, -1, 2, 1, -1, 2, 2, -1, 3, 3, -1, 1, 1, -1, 2, 1, 1, 1, 1, 1, 1, 1, 3, 2, 3, -1, -1, -1, -1, 2, 1, 6, 1, 3, 3, 2, -1, 1, -1, -1, 1, 1, 2, 1, -1, 3, 3, 1, 1, 1, 1, 3, 1, 1, 3, 4, -1, 1, 1, 1, 3, 1, 3, 1, 1, 1, 3, 2, 1, 1, 3, 1, 2, 1, 1, -1, 3, -1, 1, 1, 2, -1, -1, 1, 1, 1, 1, -1, 3, 3, 1, -1, 1, 1, -1, 1, -1, 1, 1, 1, -1, -1, 1, 1, 1, 3, 2, 1, 1, 2, 1, 3, -1, 1, -1, 3, 7, 2, 3, -1, 1, 1, 1, 1, -1, -1, 2, 7, 12, 1, 1, 1, 1, 2, -1, 1, 1, 1, -1, 1, 6, 1, 3, 3, 3, 2, 2, 1, 1, 3, 1, 1, 1, 1, 1, 3, 1, 1, 3, 1, 1, 1, -1, -1, 3, 3, 1, 1, 1, -1, 3, 2, 3, -1, 2, 1, 1, 1, -1, 1, 1, -1, 3, 1, -1, 3, 1, 1, 3, 3, 3, 1, 3, 1, 2, 1, 3, 1, -1, 15, 3, 1, 3, -1, 1, 1, 1, -1, 1, 3, 1, 1, 1, -1, -1, 1, 1, -1, 1, 3, 1, 1, 3, 1, 2, 1, 1, -1, 1, 1, -1, -1, -1, 3, 3, -1, 1, 2, 10, 1, -1, -1, 7, -1, 1, 1, -1, 3, -1, 1, 2, 1, 1, 2, 3, -1, 3, 1, -1, 1, 1, 1, 3, 1, 3, 1, 1, 1, 1, 1, 1, 1, 1, 1, 3, -1, 3, 3, 1, 10, 3, 1, 1, 1, 3, 1, 1, 6, 1, 1, 1, 1, 1, 1, -1, 1, 1, -1, 4, 3, 1, 2, 1, 1, 1, 3, 1, 3, 2, 3, 1, 2, -1, 2, 3, 2, 1, -1, 1, 1, -1, 2, 3, -1, 1, -1, 3, -1, 1, 1, -1, 1, 7, 3, 1, 3, 1, 1, 1, 1, 1, -1, 1, 1, -1, -1, 3, 1, 3, 1, -1, -1, 1, 3, 1, 1, 2, 3, -1, 3, -1, 1, 7, -1, 1, 2, 3, 2, 3, 1, -1, 3, 1, 7, 2, 1, 1, 1, 8, 1, -1, 2, 3, 1, 1, 1, 1, 2, 1, 1, 1, -1, 1, 3, 1, 10, 3, 3, -1, 1, 1, -1, -1, 1, 1, 2, 1, 3, 1, 3, 1, 2, 7, 1, 3, 1, 3, 7, -1, 1, 1, 3, 3, 1, -1, 1, 1, 1, 1, 1, 1, 1, 1, -1, 1, 1, 1, -1, 1, 2, 1, 1, 1, 1, 1, 1, 1, 2, -1, 2, 2, 1, -1, -1, -1, 1, 3, 3, -1, 3, 1, 1, 1, 1, 3, 1, 1, 1, 1, -1, 1, 2, 1, 1, 1, 2, 1, 1, 1, 2, 2, 1, 2, 1, 2, 3, 1, 2, 3, 3, 1, 3, 1, 1, -1, 3, -1, 1, 1, -1, 3, 1, -1, 3, 1, -1, 1, 1, 8, -1, 1, -1, 2, 3, 1, 1, 1, 3, 1, 2, 1, 3, 2, 1, 1, 1, 3, 1, 1, 1, -1, -1, 1, 1, 1, 1, -1, 3, 3, -1, 1, 3, 1, 1, -1, 3, 2, 2, -1, 3, 2, 3, 2, 3, 1, 3, -1, 1, 1, 3, 1, 1, -1, 2, -1, 1, 1, 2, 1, -1, 3, 3, 1, 3, -1, 3, 3, 1, 3, 1, 1, 3, 2, 3, -1, 1, 3, 2, 1, -1, 1, 2, 1, 3, 1, 3, 10, 1, 3, -1, 3, 3, 1, -1, 3, 1, 1, 1, -1, -1, 19, -1, 1, 1, 3, 3, 1, 1, 1, -1, 1, 2, 1, 3, -1, 3, 1, -1, -1, 1, -1, -1, 1, 3, -1, 1, 3, 1, 1, 1, 1, -1, 1, 1, -1, -1, 1, 2, 1, 1, 1, 1, 1, 3, 1, 1, 3, -1, 1, 3, 3, 2, 4, -1, -1, 3, -1, 3, -1, 1, 1, 1, 3, 1, 1, 3, 1, 1, 1, -1, -1, -1, 3, -1, 1, 1, 1, 1, 2, 3, 1, -1, 2, 2, -1, 3, 1, 1, 3, 3, 2, 3, 1, 1, 1, 2, 3, -1, 3, -1, 2, 2, -1, 3, 2, -1, 1, 1, 1, 3, 2, 1, 1, -1, 1, 3, 3, 1, -1, -1, 3, 1, 1, 1, 1, 3, 3, 1, 1, 1, 3, -1, 2, 1, 1, 2, 1, 1, 1, -1, 1, 2, 1, 3, -1, 3, 2, 6, 3, 2, 3, 1, 2, 1, -1, -1, 1, 1, 3, 1, -1, -1, 1, 1, 1, 1, 1, 1, -1, 1, 2, 1, 3, 1, 1, 1, 1, 1, 1, -1, 3, 2, 1, 1, 3, 3, 1, 3, 1, 1, -1, 1, 3, -1, 1, 1, 3, 1, 1, 1, 1, 1, 3, 2, 1, 3, 2, 3, 1, -1, 3, -1, 9, 1, -1, 1, 1, 3, 3, 2, -1, 8, 3, 3, 1, 3, 1, -1, -1, 1, 1, 3, 3, 3, 1, 2, 3, 2, 1, 3, 1, 3, 1, 1, -1, 1, -1, 2, 2, 1, 2, 1, 3, 1, 10, 3, 1, 1, 3, 3, 1, -1, 1, 4, 2, 1, 1, 1, 3, 3, 1, 1, 1, 1, -1, 1, 5, -1, 1, 1, 1, 1, 3, 3, 3, 1, 1, 1, 3, 1, 3, 2, 1, -1, -1, 1, 1, 4, 1, -1, 3, -1, 1, 1, -1, 1, 1, 1, 1, 4, -1, -1, -1, 1, 3, 1, 1, -1, 1, 1, 1, 3, -1, 1, 1, 1, 3, 3, 3, 1, 1, 10, 1, 3, -1, 3, 2, 2, 1, -1, -1, 9, 2, 2, 2, 3, 2, -1, 2, 1, 3, 3, 1, -1, -1, 1, 1, 3, 3, -1, 1, 1, 3, 1, 3, 3, 1, 3, -1, 1, 1, 1, 1, 1, 3, 3, -1, 1, 1, -1, -1, 1, 1, 1, 3, 1, 4, 3, 1, 1, 3, 1, -1, 3, 1, -1, 1, 1, 1, 3, 2, 1, 1, 1, 1, 1, 3, 1, 1, 3, 1, 1, 3, 3, 3, 3, 1, -1, 1, 3, 1, 1, 1, 1, 1, 1, 1, 1, -1, 1, 1, -1, 3, -1, 1, 1, 1, 1, 3, 3, 7, 2, 1, 1, 2, 1, -1, 3, 2, 1, 1, 1, 1, 1, 1, 1, 1, 2, 3, 1, 2, 1, 3, 3, 1, 1, 1, 1, 1, -1, 1, 2, 1, 1, 3, -1, 2, 2, 2, 3, 3, -1, -1, 3, 1, 1, -1, 2, 6, 1, -1, 1, 3, 1, 1, 1, 1, 3, 1, 7, 3, 1, 1, 1, 1, 1, 3, 3, 2, 2, -1, 1, 3, 3, 1, -1, 1, 3, 1, -1, -1, 1, 2, 1, 3, 4, -1, 1, 2, 3, -1, 3, 3, -1, -1, 3, 3, 1, -1, 1, 1, 1, 1, -1, 1, 1, 1, 3, -1, 1, 1, -1, 2, 3, 1, 1, 3, -1, 3, 3, 2, 1, 1, 1, 1, 13, 1, 1, -1, 1, -1, 3, -1, 1, 1, 1, 1, 2, -1, 2, 1, -1, -1, 2, 3, 3, 2, -1, 2, 1, 1, 4, 2, 1, 2, 2, 1, 1, 1, 3, 3, -1, 1, 1, -1, 3, -1, 1, 2, 1, 1, 1, 2, 1, 3, 1, 3, 1, 1, 3, 1, 3, 3, 3, 1, -1, 1, 3, 1, -1, 3, 1, 12, 7, -1, 1, 1, 1, 1, 1, 1, 1, 1, -1, 3, -1, 3, 1, 1, 8, -1, -1, -1, 5, -1, -1, 1, 1, 3, 1, -1, 1, 3, 2, 4, 1, 14, 1, 3, 1, 3, -1, 1, 1, 1, 3, -1, 1, 1, 1, 1, 1, 1, 1, 1, 1, 1, 3, 1, 3, 1, 2, 3, 2, 1, 3, 3, 1, 1, 1, 3, 1, 1, 1, 1, -1, -1, 3, 3, 1, 1, -1, 3, 2, 1, 2, 3, 2, 1, 1, 1, 1, 3, 1, 1, 3, 1, 1, 3, 1, 1, 2, 3, 1, 1, -1, 3, 1, 3, 1, 1, 1, 3, 1, 4, 1, 1, 3, 1, 4, 3, 1, 1, 1, 1, -1, 1, 3, 3, 1, 1, 1, 1, 2, 1, -1, 1, 3, 1, -1, -1, 1, -1, 2, 1, 1, 1, 3, 3, 1, 10, 1, 2, -1, -1, 3, 1, 3, 3, 3, 1, 1, 1, 1, 2, 1, 3, 3, 1, 1, 1, 3, 1, -1, 1, 1, 2, 1, 1, 3, 1, 1, 3, 3, 2, -1, 3, 1, -1, 1, 3, -1, 1, 7, 1, 1, -1, 1, 1, 1, 2, 1, 3, 3, 3, 1, 3, 3, 2, 3, 1, 1, 3, 3, 3, 1, -1, 1, 1, 1, 2, 1, 2, 1, -1, 3, 3, 3, -1, 3, 6, 1, 1, 1, 1, 1, -1, 3, 1, -1, 1, 1, -1, 1, 3, 1, 1, 1, 1, 3, 1, -1, 1, 3, 3, 1, 2, 1, 1, 3, -1, -1, 3, 1, 1, 1, 1, 2, -1, 1, 1, -1, 3, 3, -1, 1, 1, 3, 2, 1, 4, 2, 1, 1, 1, 15, 1, 3, 1, 1, 1, -1, 1, 1, 3, 3, -1, 1, 2, -1, 8, 2, 1, 1, 3, 2, -1, 1, 1, -1, 1, 3, 2, 3, -1, 1, 3, 1, 1, 1, 1, 1, 3, 1, 2, 1, 1, 1, 3, 3, -1, 3, -1, 3, 1, 3, 1, 1, -1, -1, 1, 1, 16, 1, 1, 3, -1, 1, 4, 2, 3, 1, 1, 1, 3, 1, 1, -1, 1, 1, 1, 3, -1, 1, -1, 1, 3, 3, 1, 1, 3, -1, 1, -1, 3, 1, 1, 1, 1, 2, 3, 1, 3, 1, 1, 1, -1, 1, 2, -1, 3, 3, 4, 2, 1, 1, 2, 1, 2, 2, -1, 1, -1, 6, -1, 1, 1, -1, -1, 3, 1, 2, -1, -1, 1, -1, 3, 10, 2, 3, 3, 3, 1, 1, 1, -1, 4, 3, 3, 1, 1, -1, 2, 1, 1, 1, -1, -1, -1, 1, 1, -1, 2, 2, 1, 3, 3, 1, 1, 1, -1, 3, 3, -1, 6, -1, 2, 1, 1, 3, 3, -1, -1, 1, 1, 1, -1, -1, 3, 1, 6, 1, 2, 1, -1, 1, 1, 2, 1, 3, 1, 1, 3, 1, 3, 3, -1, 1, 1, 1, 2, 1, 3, -1, 1, 1, -1, 3, -1, 3, 1, -1, 1, 1, 3, 1, 18, 3, 3, 1, 1, 2, 2, 1, 3, 2, 1, 1, 2, 3, -1, 3, 1, 3, -1, 1, 1, 1, 1, 1, 2, -1, 1, 2, 3, 13, -1, -1, 1, 3, -1, 1, 3, -1, 4, 1, -1, 1, 4, -1, 3, 1, 1, 1, 3, -1, -1, 3, 2, -1, 2, -1, -1, 1, -1, 3, -1, 1, -1, 3, 3, -1, 3, -1, 1, 3, 1, 1, 3, 1, 1, 1, 3, 2, 1, 8, -1, 1, 5, 3, 2, 16, 3, 1, -1, 1, 4, 3, 3, -1, 3, 1, 9, 1, 1, 1, 1, 3, 1, 3, 2, 3, 1, 1, 1, 1, 3, 3, 1, 3, -1, 2, 2, 1, -1, -1, -1, 1, 4, 3, -1, 1, 1, 1, 1, -1, 2, 1, 1, 3, 3, -1, 3, 1, 1, -1, 2, -1, 3, -1, -1, 1, 1, 1, 3, 2, 1, 1, 1, -1, 1, 3, 1, 2, 1, -1, 1, 3, -1, 1, 1, 10, 1, 3, -1, 3, 1, 1, 4, 2, -1, 1, -1, 1, 3, 3, -1, -1, 1, 1, 1, 3, 3, 1, 3, 1, 2, 3, 3, -1, 3, 3, 1, 3, 3, -1, 3, 1, -1, -1, 3, 1, 18, 3, 1, 2, 3, 1, 2, 3, 2, 2, 3, 1, 1, 3, 1, 1, 3, 2, 1, 3, 2, 1, -1, 1, 1, 1, 2, 1, 2, 1, 3, -1, -1, 3, 1, -1, 1, 3, 3, 1, 1, 1, 1, 4, 1, 1, 3, 1, 1, 4, 1, 1, 1, 1, 3, 3, -1, 1, 4, 1, 1, 1, 1, -1, 3, 3, 3, -1, 3, 1, 3, 1, -1, 3, 1, 1, -1, 2, 1, 1, 3, -1, 2, -1, 1, 1, 1, -1, 3, 1, -1, -1, 2, 3, 1, 1, 1, -1, 1, 3, 3, -1, 1, 6, 1, 1, 3, -1, 1, -1, -1, 1, 1, 2, 1, 1, 1, 17, 1, 3, -1, 3, 1, -1, -1, 1, 1, 2, -1, -1, 2, 3, 3, 1, 3, -1, 3, 1, 3, 2, -1, 1, 1, 1, 1, 1, -1, -1, -1, 1, 3, 1, 1, 1, 1, -1, 1, 1, 10, 1, 1, 1, 1, 1, 3, 3, -1, 3, 1, 6, 1, 1, 3, -1, 2, 1, 3, -1, 3, -1, 1, -1, -1, 20, 1, -1, 1, -1, -1, 1, 1, 1, 1, -1, 1, -1, -1, 1, 1, -1, -1, -1, 3, -1, 1, 3, -1, 9, 3, 1, 1, 1, 2, 1, 1, 3, 1, 1, 1, 1, 1, 1, 7, 1, 3, 1, 3, 1, 1, -1, -1, 2, 1, 1, -1, 1, 1, 1, 2, -1, 1, 1, 1, 1, 1, 1, 2, 3, -1, 1, 3, 2, 3, 1, 3, 1, 1, 2, 1, 1, 6, -1, 1, 18, 3, 1, 1, -1, 2, 1, 2, 1, 3, 1, 1, 10, 1, 1, 3, 1, 1, 3, 1, 3, 3, 3, 3, -1, 2, 1, -1, 3, 3, 1, -1, 1, 1, 1, 1, 1, 1, 3, 1, 1, 1, 3, 1, 2, -1, 7, 1, 3, 1, 1, 1, 1, -1, -1, 3, 1, 1, 1, 1, 3, -1, 1, -1, 1, 1, 3, 1, -1, -1, 2, 1, 1, 1, 3, 8, 3, 1, 1, 1, -1, 3, 1, -1, 7, 3, 1, 1, 1, 1, 4, 1, 7, 1, 1, 1, 1, 1, 2, 17, 1, 3, 3, 1, -1, 3, 1, 10, -1, 1, 3, 1, 1, 3, -1, 2, 4, 1, 7, 3, 3, 1, 3, 3, 2, 3, 1, 3, -1, 1, -1, 2, 1, 3, 3, 3, 1, 2, 1, 1, 3, 1, 3, 1, 3, 3, 1, 3, 3, -1, -1, 1, -1, 2, 2, 1, 1, 1, 3, 1, 2, 1, -1, -1, 3, 1, 1, 3, 1, 1, 2, 1, 3, 1, 1, 1, 1, 2, -1, 1, 1, 2, 1, 3, -1, 1, 1, 2, 2, 1, 1, 1, -1, 1, 3, -1, 1, 1, 1, 1, 1, 3, 3, -1, 1, 1, 1, 3, -1, 2, 1, 1, 3, -1, 1, 3, 3, 3, 3, 1, 1, 3, 1, 3, 1, 3, -1, -1, -1, 3, -1, -1, -1, 3, 3, 1, 3, 1, 1, -1, 3, -1, 1, 3, 2, 1, 1, 3, 3, 3, 3, 1, 1, 3, -1, 3, 3, 1, 2, -1, 1, -1, 1, 2, 2, 1, -1, 3, 2, 1, 3, -1, 1, 1, 1, 1, 1, 1, -1, -1, 1, 2, 1, 2, 1, 1, -1, 1, 1, 1, 1, 2, 1, 1, 1, 2, 3, -1, 1, 3, 2, 1, 1, 3, 1, 3, 3, 1, 1, 1, 1, 2, 3, -1, 1, 1, 3, 1, 1, 2, 1, 1, 3, 1, 1, 1, 1, 1, 2, 4, 2, 1, -1, -1, 1, 1, 2, 2, -1, 2, 1, -1, 3, 3, 1, 1, 1, 1, 1, 1, 2, 1, 1, 1, 1, 1, -1, -1, -1, 2, -1, 1, 3, 1, 1, 3, 2, 1, 3, 1, 1, 1, 2, 1, 7, 1, 2, 1, 1, -1, 1, 3, 1, -1, 1, 1, -1, 1, 1, 3, 1, 1, -1, 1, 3, 3, -1, 3, 1, 1, 3, 1, 1, 3, 1, -1, 2, 3, 1, 1, 1, -1, 1, 1, -1, 1, 1, 3, 3, 1, 1, -1, 3, -1, 1, -1, 3, 1, 1, 7, -1, 1, -1, 1, 2, 1, 1, 1, 2, 1, 1, 1, -1, 1, 1, -1, 1, 3, -1, 3, 3, 2, 1, 1, 1, 2, 1, 1, 1, 1, 1, 7, 3, 1, 3, 2, 1, 1, 2, 4, 1, 1, 3, 1, 3, 1, 2, 3, -1, 4, -1, 1, 1, 3, 3, 1, 2, -1, 1, 1, 3, 3, 1, 1, 1, 1, 3, 3, -1, 6, 2, 3, -1, -1, 2, 3, 3, -1, 1, 1, 3, 3, 1, -1, 1, 1, 3, 10, 2, 3, 1, 1, 1, -1, -1, 3, 2, 3, 3, 2, 1, 1, 2, 3, -1, 3, 1, 2, -1, 3, 1, -1, 1, 1, 1, -1, 3, 1, -1, 3, 3, 1, -1, 1, 1, 3, 1, -1, 1, 1, 2, 1, 7, 10, 7, -1, 3, 1, 1, 1, 3, 1, 1, 3, -1, 1, 2, 9, 1, 1, 1, 1, 1, -1, 1, 1, 3, 1, -1, 3, 1, 3, 1, 9, 3, -1, -1, 2, 3, 1, 1, 1, 1, 1, 1, 4, 1, 3, 1, -1, 3, -1, 1, -1, -1, 1, 3, 1, 3, -1, -1, 1, 3, 2, 2, 2, 1, 1, 4, 1, 3, 1, 3, 1, 5, 1, 3, 3, 1, 1, 1, 2, 3, 8, 1, 1, 1, 3, 3, 2, 1, -1, 7, 1, 1, 1, 2, 1, 1, 1, -1, 1, 3, 1, 3, 3, 1, 10, 1, 1, 1, 1, -1, -1, 1, 3, -1, 1, 2, 1, 1, 1, 1, 1, 1, 1, 3, 1, 1, 1, 2, 2, 1, 2, 1, 1, 1, 2, 1, 1, 1, 4, 3, 2, 1, 1, 1, 1, 2, 3, 1, 1, 3, 3, 3, 3, 2, 1, 3, 1, 1, 1, -1, 3, 1, 1, 2, 1, 1, -1, 7, 1, 1, 1, -1, 2, 1, 1, 1, 3, 3, 1, 3, 1, 1, 3, 8, 3, 3, 1, 1, 1, 13, -1, 1, 2, 3, 1, 1, 1, 1, 1, 1, 2, 1, 3, 1, 1, 1, 1, 2, 3, 3, 1, 3, 1, 1, -1, -1, -1, 2, -1, 1, 1, 1, 1, 1, 3, 5, 1, 3, 3, 1, 1, 1, 3, 1, 1, 1, 1, 1, 3, 1, 1, 3, 3, 3, 1, 1, 1, 1, 1, 1, -1, -1, 2, 3, -1, 1, 1, 1, 1, 1, 1, 1, 1, 1, 3, 3, 1, 1, 3, -1, 3, 1, 1, -1, 1, -1, 1, -1, 3, -1, 3, 16, 1, -1, 3, -1, 2, 1, 3, 1, -1, 1, 1, 1, 2, -1, -1, -1, 1, 1, 1, 1, 1, 2, 3, -1, 3, 1, 1, 1, 1, 1, 1, 1, 1, -1, 1, 1, 2, 2, 3, 3, 2, 3, 1, 1, 3, 1, 1, 3, 2, 3, 1, 1, 1, 1, 1, 3, 1, 1, 1, 3, 1, 3, -1, -1, 2, 3, 1, 1, 1, 2, 3, 1, 3, 3, 1, 2, 1, 1, 3, 1, 3, -1, 1, 1, 1, 3, 1, 1, 3, 1, 3, 1, 2, -1, 1, -1, 1, 3, 1, 2, 1, 1, 3, 4, 1, -1, 4, 3, 3, 2, 1, -1, 10, 1, 1, 1, 3, 1, 1, -1, 1, 3, 1, 1, 2, -1, 1, 1, 3, -1, 1, 1, 14, -1, 1, 3, 2, 3, 1, 2, 1, 3, -1, 1, 1, 1, 1, 1, 3, 1, 1, 3, 1, 1, 1, 1, 1, 3, 1, 1, -1, 1, 3, 1, 1, 3, 1, 1, 1, -1, 1, 1, 1, 3, 3, 1, -1, 2, 1, 1, 4, -1, -1, 1, -1, 3, 3, 3, 1, -1, 2, 2, 1, 1, 3, 1, 3, 1, 1, 1, 3, 2, 1, 1, 1, 2, -1, 1, 1, 1, 3, 3, 1, 3, 2, 1, 3, 1, 1, 2, 3, 1, 2, 1, 3, 3, 1, 10, 2, 1, 1, 3, 2, 1, 2, -1, 1, 1, 1, 3, 1, -1, 1, 3, -1, -1, 3, 2, 2, 1, 1, 3, 3, 3, 1, 1, -1, 1, -1, 1, 1, 2, 1, 3, 1, 2, 3, 1, -1, 1, 1, -1, 3, 2, 3, 1, 1, -1, 3, 1, 3, 3, 1, 1, 3, -1, 1, 3, 2, 1, 1, 2, 1, -1, 1, 1, 3, 1, 1, 4, -1, 3, 2, 1, 1, 1, 1, 2, 2, 2, 3, 7, 3, 7, 1, -1, 1, -1, 1, 3, 1, 1, 2, 3, 2, 10, 1, 1, 1, -1, 3, 1, 1, 3, 2, 3, -1, 1, -1, -1, 1, 7, 1, 3, -1, 1, 1, -1, 1, 3, 2, 2, 1, 1, 1, -1, 3, 2, 3, 3, 1, 3, -1, 1, 1, 2, -1, 3, 1, 1, 3, -1, 1, -1, 1, 3, 1, 1, -1, 2, 2, -1, -1, 2, 9, 3, 3, -1, 3, 2, 1, -1, 1, 2, 3, 1, -1, 2, 3, -1, -1, 1, 3, 1, 2, 2, 1, 1, -1, 1, 1, 1, 1, 1, 1, 1, 3, 1, -1, 1, 1, 3, 6, 1, 1, -1, 3, 1, 1, 1, -1, 1, -1, 2, 2, 1, -1, -1, 1, 1, 3, 2, 1, 1, 3, 1, 3, 1, -1, 1, 2, 2, 1, 2, 1, 3, 3, -1, 1, 1, -1, 1, 1, 1, 3, 2, -1, 2, 3, 2, 1, 1, 3, 2, 1, 1, -1, 1, 3, 2, 1, -1, 1, -1, 3, 1, 1, 1, 2, -1, 1, 1, 1, 3, 3, 3, 1, 1, 1, 2, 1, 1, 2, 2, 3, -1, 1, -1, -1, -1, 1, 1, 1, 3, 1, 2, 1, 3, 1, 3, 1, 1, 1, 1, 3, 8, 2, -1, 2, 3, 2, 7, 1, 1, 1, 1, 2, 1, 20, 1, 3, 2, -1, 2, 1, 1, 1, 1, 1, -1, -1, 1, 2, 1, 1, 1, 1, 3, -1, 3, 1, 3, 1, 1, 1, 3, -1, -1, 5, -1, 1, 2, 1, 1, -1, 1, 1, 1, 1, 3, 1, -1, -1, 1, 3, 2, 3, 1, 3, 3, 2, 2, 1, 1, 1, -1, 1, 2, 2, 3, 1, 1, 1, 1, -1, 1, 1, 8, 2, 1, -1, -1, 3, 1, -1, 4, 10, 2, 3, 2, 1, 1, 1, 1, 3, 1, 1, 1, 1, 1, 2, -1, 3, -1, -1, 3, 2, 1, 1, 3, 1, 1, -1, 1, 1, 1, 3, 2, 3, 1, 1, 1, 1, 2, 1, 3, 3, 2, 2, 1, 1, 3, 1, 3, 3, 1, -1, 1, 1, 2, 1, 2, 1, -1, -1, -1, 3, 1, 2, -1, 1, 3, 1, -1, 2, 1, -1, -1, 3, 1, 1, 1, 1, 1, 2, 4, 3, 3, 3, -1, 1, 4, -1, 2, 3, 1, 1, -1, -1, -1, 1, 1, 1, 1, 1, 1, -1, 2, 1, -1, 3, 1, 1, 1, 1, 2, 1, 1, -1, 1, 3, 10, 1, 2, 1, 3, 9, 2, 1, 1, -1, 3, 1, 3, 3, 3, -1, 2, 1, 1, 1, 3, 1, 7, 12, 3, 10, 1, -1, 1, 1, 3, 1, 1, 3, 1, 1, -1, 8, 1, 1, 1, 1, 2, 2, -1, 1, 1, 2, 1, 3, 1, 1, 1, 1, 4, 1, 1, 3, 1, 3, 3, 3, 1, 3, 3, 1, -1, 2, 3, 2, 1, -1, -1, 1, 2, 1, -1, 3, 1, 1, 3, 3, 3, 1, -1, 2, -1, 1, 2, 1, 3, 1, 1, 3, 1, 1, -1, 1, 1, 1, -1, 3, 1, 1, 1, -1, 1, 1, 1, 1, 1, 1, -1, 1, 3, 1, -1, 1, 3, 2, 3, 2, 1, 3, 3, -1, 3, 2, 1, 3, 1, 1, 14, 7, 2, 2, 7, 2, 1, 1, 1, 3, 3, -1, 3, -1, 2, 2, 2, 3, 4, 1, 1, -1, 1, 1, 1, 1, 1, 1, -1, 1, 1, 2, -1, 1, 2, 1, 1, -1, 1, -1, 1, 2, 1, 3, 1, -1, 3, -1, 3, 1, -1, -1, 2, 1, -1, 1, 1, 2, 2, 3, 3, 1, 1, 1, -1, 1, 2, -1, -1, -1, -1, 1, 3, 1, 3, 3, 3, 1, 3, 1, 2, 1, 1, -1, 1, 1, 1, 1, 1, 3, 2, -1, 1, 2, 2, 2, 1, 1, 2, 1, 3, 1, 1, 3, 3, 3, -1, 3, -1, 2, 2, 1, 1, 1, 3, 1, -1, 1, 2, 1, -1, 11, 18, 1, 2, 1, 3, 1, -1, 1, 1, 1, 3, 1, 1, 1, -1, 3, 1, 1, 1, 1, 3, 1, -1, 2, 1, 1, 3, 1, 3, 1, -1, 3, 1, 1, 3, 2, 2, 1, 1, 3, 1, 1, 3, 1, 1, 1, 1, 1, 1, 3, 1, 2, 1, 1, 3, 3, 1, -1, 3, 3, 1, 1, 1, 1, 1, 7, 3, 1, 2, 3, -1, 2, 6, 3, 1, -1, 1, 1, 1, 1, 3, 1, -1, 3, -1, -1, -1, 1, 1, 2, 3, 2, 3, 3, 1, 3, 3, -1, 3, 4, 2, 2, 1, 1, -1, 1, 1, 1, 1, 1, -1, 3, 3, -1, 1, -1, 2, 1, 1, -1, -1, 1, 1, 3, 1, 2, 1, 1, 2, 1, 1, 2, 3, 2, 1, 1, 1, 1, 3, 1, 1, 2, 1, 1, 3, 1, 2, 1, 7, 3, 1, 2, 1, 1, 1, 2, -1, 3, 1, -1, -1, 1, 19, 3, 1, 1, 2, 1, 1, -1, 1, 1, 3, 3, 3, 1, -1, -1, 4, 1, 2, 1, 1, 1, 1, 2, 3, 3, 15, 1, 1, 3, 2, 4, 2, 1, 1, 2, 1, 3, 3, 3, 1, 1, 1, -1, 2, 2, 2, 3, 1, 1, -1, 3, 1, 1, 1, 1, -1, 3, 2, 1, -1, 1, 13, 2, 1, 1, 2, -1, 1, -1, 1, 1, 1, 4, 1, 1, -1, 1, 3, -1, 3, 1, 2, -1, 1, 1, -1, 1, 1, -1, 1, 1, 1, 3, 3, 1, 1, 2, 1, 2, 1, 1, 1, 1, 1, -1, 1, 1, -1, -1, 2, -1, 1, 2, 1, 1, 1, 1, 2, 1, 3, 3, -1, 1, 3, 2, -1, 3, 3, 1, 1, 1, 3, -1, 1, 4, 1, 1, 1, 1, 1, 1, 1, -1, 7, 1, -1, 15, 1, 1, 1, 2, 3, 1, 1, -1, 1, 1, 1, 3, 3, 2, 9, 1, 1, 1, 2, -1, 1, 1, 1, 1, 1, 1, 1, 1, 3, -1, -1, 1, 1, 1, 10, 3, 1, -1, 1, 19, 2, -1, 3, 3, -1, 3, 1, 1, 1, 1, 3, 3, -1, 3, 3, 3, 1, -1, 8, 3, 1, 1, -1, -1, 1, -1, 1, 3, 1, 1, 1, 3, 1, 2, -1, 1, -1, 3, 1, -1, 5, 3, 3, 1, 1, -1, -1, -1, 16, 1, 1, 3, -1, 1, 1, -1, 3, 1, 1, -1, 2, 1, -1, 1, 1, 3, 1, 3, 1, -1, 1, 3, 1, 3, 1, 3, 2, 2, 1, 3, 1, 1, 1, 3, -1, 1, 3, -1, -1, 1, 1, 1, 3, 1, 1, -1, 1, 1, 3, 3, 1, 1, 2, 3, 1, 1, 1, 1, -1, 1, -1, 1, 3, 1, 1, 4, 3, 3, 1, 1, 3, -1, 3, 1, 1, 1, 1, 1, -1, -1, 3, 3, 1, 1, 2, 1, 1, -1, 1, 1, 4, 2, 1, 1, 3, 2, 1, 1, 1, 3, 2, 1, 2, 1, 3, 1, 2, 3, 1, 1, 1, 1, -1, 1, 3, 1, 3, 1, 3, -1, 3, 1, 3, 1, 1, 2, 3, 1, 3, 3, 1, 1, 1, 1, 2, 3, 2, 3, -1, -1, 1, -1, 1, 1, 3, -1, 1, 2, 3, -1, 3, -1, 1, 2, 1, 1, 1, -1, -1, 1, 1, 1, 1, -1, 1, 3, 1, 11, 1, 3, 3, 1, 1, 2, -1, 3, -1, 1, 2, 3, 3, 3, -1, 1, -1, 1, 1, 1, -1, -1, 10, 1, 2, 1, 1, 8, 10, 1, -1, 1, 1, 3, 2, -1, 3, 3, 2, 1, 1, 3, 3, 3, 1, 3, 3, 3, 4, 1, 1, 3, 3, -1, 1, 1, 1, -1, -1, 2, 1, 2, 3, 3, -1, -1, 2, -1, 3, 3, 1, 1, -1, 2, 1, 1, 1, 1, 3, 1, 1, -1, 1, -1, 1, 1, -1, 2, 1, 3, 1, 1, 1, 1, -1, 1, 1, 4, 1, 2, 2, 3, 1, -1, 1, 1, -1, 1, 3, 1, 3, 11, 1, 1, 1, -1, 2, 1, -1, 1, 1, 1, 3, 3, 3, 3, 1, 1, 3, 1, 2, 2, 1, 1, 1, 2, 2, 1, 3, 1, 2, 3, -1, 1, -1, 1, 3, 1, 1, 2, 1, 3, -1, 2, 3, 1, 2, 3, 2, 3, 3, 1, 1, 1, 2, 1, 2, 3, 1, -1, 8, 1, 1, 3, 3, -1, 2, 3, 2, 1, 2, -1, 2, 1, 1, 3, -1, 3, 1, 3, 1, 1, 1, 1, 3, 1, 3, -1, 1, 2, 1, 2, -1, 1, 1, 1, 1, 3, 1, 3, 1, 1, 1, 2, 1, 1, 10, 3, 3, 1, 2, -1, 3, 1, 1, 1, 3, -1, 1, -1, 3, 3, 1, 3, 1, 3, 1, 1, -1, 2, 4, 3, 1, 1, 7, 1, -1, 3, 1, 3, 3, -1, 1, 2, 3, 1, 3, -1, 3, -1, 1, 2, -1, 1, 1, 3, 1, 3, 3, 3, 1, 2, -1, 3, 1, -1, 2, -1, 1, 2, 1, 1, -1, -1, 1, 3, 10, 1, 3, -1, 1, 1, 1, 1, 3, 1, 2, 3, 1, 1, 1, 2, -1, 1, 1, 1, 1, 3, 1, -1, -1, 3, 2, 2, -1, 1, 1, -1, 1, 3, 3, 2, 1, 1, 1, 3, 1, 3, 1, -1, 1, -1, 2, 1, -1, 1, 1, 1, -1, -1, 2, 1, 3, 1, 1, 1, 3, 1, -1, 1, 1, 1, 3, 3, 3, 1, 3, 4, 2, 1, 1, -1, -1, 1, 1, 1, 2, 1, 11, 3, 15, 2, 1, 1, 2, 2, 3, 3, 3, 2, 1, 1, 1, 1, 10, 3, 1, 1, 1, 1, -1, 1, 1, 2, -1, -1, 1, 3, 2, 1, 3, -1, 1, 1, 1, 1, 2, 1, 1, 2, 2, -1, -1, -1, 3, -1, 1, 1, 1, -1, 1, 2, -1, -1, 3, -1, 1, 1, 3, 3, 1, 2, 1, 3, 1, -1, 3, 1, 1, 1, 3, -1, -1, 3, -1, -1, -1, 3, 3, 1, 1, 1, 2, 3, 1, 1, 2, -1, 2, 1, 2, 1, 1, 3, 1, 1, 1, 1, 1, 2, 1, 1, 1, 1, 3, 20, 3, 1, 1, 2, -1, 1, 3, 1, -1, -1, 7, 2, 1, -1, -1, 1, 1, -1, 2, 8, 1, 2, 1, 3, 2, 1, 3, -1, 2, 1, 1, 1, 1, 3, 2, 4, 3, 3, 1, 1, 2, 2, 1, 1, 1, 1, -1, 3, 1, 3, 3, 1, 1, 3, 1, -1, 1, 1, 1, -1, 1, 1, -1, 8, 1, 2, 2, 1, 2, 1, 1, 1, 1, 3, 3, 2, 3, 1, -1, 3, 1, 3, 1, 3, 1, 1, -1, 1, 1, -1, 1, 1, 2, 1, 1, 1, 1, 1, -1, 4, 1, 1, 1, 3, 1, 1, -1, 1, 10, 1, 1, 1, 3, 1, 1, 1, -1, 3, 1, 1, -1, 1, 1, 3, -1, 3, 1, 1, 1, 2, 1, -1, 2, 1, 2, 1, 4, 1, 1, -1, 1, 1, 1, 1, -1, 1, 1, 1, 3, 1, 1, 3, 1, 1, 1, 1, 2, 1, 1, 3, 1, 3, 1, 1, 1, -1, 3, 1, -1, 1, -1, 1, 4, 1, -1, 3, 2, 3, 1, 1, 2, 1]\n"
          ]
        }
      ],
      "source": [
        "pred_labels = dbscan(train_data_copy, 15, 3)\n",
        "print(pred_labels)"
      ]
    },
    {
      "cell_type": "code",
      "execution_count": 11,
      "metadata": {
        "colab": {
          "base_uri": "https://localhost:8080/"
        },
        "id": "5nvkSH8mZPN0",
        "outputId": "1743d825-dfbf-42ee-e497-5dbf0d192f96"
      },
      "outputs": [
        {
          "output_type": "execute_result",
          "data": {
            "text/plain": [
              "array([27, 27, 27, ..., 27, 27, 27])"
            ]
          },
          "metadata": {},
          "execution_count": 11
        }
      ],
      "source": [
        "train_labels"
      ]
    },
    {
      "cell_type": "code",
      "execution_count": 18,
      "metadata": {
        "colab": {
          "base_uri": "https://localhost:8080/"
        },
        "id": "JxiD58OyZPN0",
        "outputId": "175b6347-0df6-4a26-d6c6-c75231e719f1"
      },
      "outputs": [
        {
          "output_type": "stream",
          "name": "stdout",
          "text": [
            "Precision: 0.9897917517354023\n",
            "Recall 0.7563745809565455\n",
            "cluster: 1 pre: 1.0   rec: 0.8112543962485346   f1: 0.8957928802588997\n",
            "cluster: 2 pre: 1.0   rec: 0.18640093786635403   f1: 0.31422924901185767\n",
            "cluster: 3 pre: 0.980806142034549   rec: 0.9814340588988476   f1: 0.98112\n",
            "cluster: 4 pre: 1.0   rec: 0.05636743215031315   f1: 0.10671936758893281\n",
            "cluster: 5 pre: 1.0   rec: 0.008350730688935281   f1: 0.016563146997929604\n",
            "cluster: 6 pre: 1.0   rec: 0.014613778705636743   f1: 0.028806584362139915\n",
            "cluster: 7 pre: 1.0   rec: 0.037578288100208766   f1: 0.07243460764587525\n",
            "cluster: 8 pre: 1.0   rec: 0.8823529411764706   f1: 0.9375\n",
            "cluster: 9 pre: 1.0   rec: 0.009742519137091163   f1: 0.019297036526533425\n",
            "cluster: 10 pre: 1.0   rec: 0.023660403618649965   f1: 0.04622705642420122\n",
            "cluster: 11 pre: 1.0   rec: 0.003479471120389701   f1: 0.00693481276005548\n",
            "cluster: 12 pre: 1.0   rec: 0.0027835768963117608   f1: 0.005551700208188758\n",
            "cluster: 13 pre: 1.0   rec: 0.003201024327784891   f1: 0.006381620931716655\n",
            "cluster: 14 pre: 1.0   rec: 0.45454545454545453   f1: 0.625\n",
            "cluster: 15 pre: 1.0   rec: 0.003479471120389701   f1: 0.00693481276005548\n",
            "cluster: 16 pre: 1.0   rec: 0.0027835768963117608   f1: 0.005551700208188758\n",
            "cluster: 17 pre: 1.0   rec: 0.0027835768963117608   f1: 0.005551700208188758\n",
            "cluster: 18 pre: 1.0   rec: 0.0027835768963117608   f1: 0.005551700208188758\n",
            "cluster: 19 pre: 1.0   rec: 0.002560819462227913   f1: 0.005108556832694763\n",
            "cluster: 20 pre: 1.0   rec: 0.0019206145966709346   f1: 0.0038338658146964853\n",
            "cluster: -1 pre: 0.9637096774193549   rec: 0.8315935977731385   f1: 0.8927904370564064\n",
            "F1 Measure 0.23751813503832142\n",
            "Conditional Entropy 0.08650543363578882\n"
          ]
        }
      ],
      "source": [
        "print(\"Precision:\", precision(pred_labels, train_labels.tolist()))\n",
        "print(\"Recall\", recall(pred_labels, train_labels.tolist()))\n",
        "print(\"F1 Measure\",f1(pred_labels, train_labels.tolist()))\n",
        "print(\"Conditional Entropy\",conditional_entropy(pred_labels, train_labels.tolist()))"
      ]
    }
  ],
  "metadata": {
    "colab": {
      "provenance": []
    },
    "kernelspec": {
      "display_name": "Python 3",
      "name": "python3"
    },
    "language_info": {
      "codemirror_mode": {
        "name": "ipython",
        "version": 3
      },
      "file_extension": ".py",
      "mimetype": "text/x-python",
      "name": "python",
      "nbconvert_exporter": "python",
      "pygments_lexer": "ipython3",
      "version": "3.10.9"
    }
  },
  "nbformat": 4,
  "nbformat_minor": 0
}