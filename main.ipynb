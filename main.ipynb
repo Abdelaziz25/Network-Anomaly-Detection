{
 "cells": [
  {
   "attachments": {},
   "cell_type": "markdown",
   "metadata": {},
   "source": [
    "# Dataset Processing"
   ]
  },
  {
   "attachments": {},
   "cell_type": "markdown",
   "metadata": {},
   "source": [
    "## Read the training and testing data and save them into pandas dataframes."
   ]
  },
  {
   "cell_type": "code",
   "execution_count": 1,
   "metadata": {},
   "outputs": [],
   "source": [
    "import pandas as pd\n",
    "\n",
    "# Collect the data from the zipped files\n",
    "df_training = pd.read_csv('kddcup.data.gz', header=None)\n",
    "df_testing = pd.read_csv('corrected.gz', header=None)"
   ]
  },
  {
   "cell_type": "code",
   "execution_count": 2,
   "metadata": {},
   "outputs": [
    {
     "name": "stdout",
     "output_type": "stream",
     "text": [
      "['normal.' 'normal.' 'normal.' ... 'normal.' 'normal.' 'normal.']\n",
      "['normal.' 'normal.' 'normal.' ... 'normal.' 'normal.' 'normal.']\n"
     ]
    }
   ],
   "source": [
    "# Split the data from labels\n",
    "trlabels = df_training.iloc[:, 41].values\n",
    "tslabels = df_testing.iloc[:, 41].values\n",
    "\n",
    "training = df_training.drop(df_training.columns[41], axis=1)\n",
    "testing = df_testing.drop(df_testing.columns[41], axis=1)\n",
    "\n",
    "# The data after dropping the headers should be of shape (4898431, 41) and (311029, 41)\n",
    "assert (training.shape == (4898431, 41))\n",
    "assert (testing.shape == (311029, 41))\n",
    "print(trlabels)\n",
    "print(tslabels)"
   ]
  },
  {
   "attachments": {},
   "cell_type": "markdown",
   "metadata": {},
   "source": [
    "## Convert the categorical values into numeric values."
   ]
  },
  {
   "cell_type": "code",
   "execution_count": 3,
   "metadata": {},
   "outputs": [],
   "source": [
    "import numpy as np\n",
    "from sklearn.preprocessing import LabelEncoder\n",
    "\n",
    "def cat_to_num(trcolumn, tscolumn):\n",
    "    \"\"\"\n",
    "    Converts 2 categorical columns of the same types into numerical columns\n",
    "\n",
    "    Args:\n",
    "        trcolumn (ndarray): ndarray of values of the first column.\n",
    "        tscolumn (ndarray): ndarray of values of the second column.\n",
    "\n",
    "    Returns:\n",
    "        tuple: a tuple of 2 ndarrays\n",
    "    \"\"\"\n",
    "    encoder = LabelEncoder()\n",
    "    categories = set(np.unique(trcolumn)).union(set(np.unique(tscolumn)))\n",
    "    encoder.fit(list(categories))\n",
    "    return encoder.transform(trcolumn), encoder.transform(tscolumn)\n"
   ]
  },
  {
   "cell_type": "code",
   "execution_count": 4,
   "metadata": {},
   "outputs": [],
   "source": [
    "# Copy the data into another dataframe to convert its categorical values into numerical.\n",
    "num_training = training.copy()\n",
    "num_testing = testing.copy()\n",
    "\n",
    "# Convert the categorical features.\n",
    "for i in range(1, 4):\n",
    "    values = cat_to_num(num_training.iloc[:, i].values, num_testing.iloc[:, i].values)\n",
    "    num_training.isetitem(i, values[0])\n",
    "    num_testing.isetitem(i, values[1])\n",
    "\n",
    "# Convert the labels.\n",
    "num_trlabels, num_tslabels = cat_to_num(trlabels, tslabels)"
   ]
  },
  {
   "attachments": {},
   "cell_type": "markdown",
   "metadata": {},
   "source": [
    "The data is now available in two forms:\n",
    "* Form One (Categorical):\n",
    "    * training\n",
    "    * testing\n",
    "    * trlabels\n",
    "    * tslabels\n",
    "\n",
    "* Form Two (Numerical):\n",
    "    * training\n",
    "    * testing\n",
    "    * trlabels\n",
    "    * tslabels"
   ]
  },
  {
   "attachments": {},
   "cell_type": "markdown",
   "metadata": {},
   "source": [

    "Clustering Using K-Means"
    
       "execution_count": null,
   "metadata": {},
   "outputs": [],
   "source": [
    "import numpy as np\n",
    "\n",
    "def k_means(X, k, epsilon):\n",
    "    \n",
    "    n_samples, n_features = X.shape\n",
    "    \n",
    "    # Randomly choose k data points as the initial centroids\n",
    "    centroids = X[np.random.choice(n_samples, k, replace=False)]\n",
    "    distances = np.zeros((n_samples, k))\n",
    "    labels = np.zeros(n_samples)\n",
    "    old_centroids = np.zeros((k, n_features))\n",
    "    \n",
    "    # Continue until the centroids don't change by more than epsilon\n",
    "    while np.linalg.norm(centroids - old_centroids) > epsilon:\n",
    "        old_centroids = centroids.copy()\n",
    "        \n",
    "        # Calculate the Euclidean distances from each sample to each centroid\n",
    "        for i in range(k):\n",
    "            distances[:, i] = np.linalg.norm(X - centroids[i], axis=1)\n",
    "        \n",
    "        # Assign each sample to the nearest centroid\n",
    "        labels = np.argmin(distances, axis=1)\n",
    "        \n",
    "        # Update the centroids to be the mean of the samples assigned \n",
    "        for i in range(k):\n",
    "            X_i = X[labels == i]\n",
    "            if len(X_i) == 0:\n",
    "                centroids[i] = old_centroids[i]\n",
    "            else:\n",
    "                centroids[i] = np.mean(X_i, axis=0)\n",
    "        \n",
    "    return centroids"
   ]
  },
  {
   "cell_type": "code",
   "execution_count": null,
   "metadata": {},
   "outputs": [],
   "source": [
    "import numpy as np\n",
    "from sklearn.metrics.cluster import contingency_matrix\n",
    "from scipy.optimize import linear_sum_assignment\n",
    "label = []\n",
    "train = np.array(train_data.drop(train_data.columns[-1], axis=1))\n",
    "test = np.array(test_data.drop(train_data.columns[-1], axis=1))\n",
    "results = []\n",
    "for K in [7,15,23,31,45]:\n",
    "    centroids = k_means(train,K,0.001)\n",
    "    distances = np.linalg.norm(test[:, np.newaxis, :] - centroids, axis=2)\n",
    "    labels = np.argmin(distances, axis=1)\n",
    "    contingency = contingency_matrix(y_test, labels)\n",
    "    row_ind, col_ind = linear_sum_assignment(-contingency)\n",
    "    y_pred = np.zeros_like(labels)\n",
    "    for i, j in zip(row_ind, col_ind):\n",
    "       y_pred[labels == j] = i\n",
    "    results.append(y_pred)\n",
    "    print(results)"
   ]
  },
  {
   "attachments": {},
   "cell_type": "markdown",
   "metadata": {},
   "source": [
    "Evaluation"
   ]
  },
  {
   "cell_type": "code",
   "execution_count": null,
   "metadata": {},
   "outputs": [],
   "source": [
    "from sklearn.metrics import precision_score, recall_score, f1_score ,mutual_info_score\n",
    "K_range = [7,15,23,31,45]\n",
    "i=0\n",
    "for K in K_range:\n",
    "    print(\"K\",K)\n",
    "    precision = precision_score(results[i],y_test,average='weighted')\n",
    "    print(\"precision\",precision)\n",
    "    recall = recall_score(results[i], y_test, average='weighted')\n",
    "    print(\"recall\",recall)\n",
    "    f1 = f1_score(results[i], y_test, average='weighted') \n",
    "    print(\"f1_score\",f1)\n",
    "    conditional_entropy = mutual_info_score(results[i], y_test)\n",
    "    print(\"conditional_entropy\",conditional_entropy)\n",
    "    i = i+1"

    "# Normalized Cut"
   ]
  },
  {
   "cell_type": "code",

   "execution_count": 6,
   "metadata": {},
   "outputs": [
    {
     "ename": "MemoryError",
     "evalue": "Unable to allocate 8.94 GiB for an array with shape (24492, 24492) and data type complex128",
     "output_type": "error",
     "traceback": [
      "\u001b[1;31m---------------------------------------------------------------------------\u001b[0m",
      "\u001b[1;31mMemoryError\u001b[0m                               Traceback (most recent call last)",
      "\u001b[1;32md:\\Workshop\\Network Anomaly Detection\\main.ipynb Cell 10\u001b[0m in \u001b[0;36m8\n\u001b[0;32m     <a href='vscode-notebook-cell:/d%3A/Workshop/Network%20Anomaly%20Detection/main.ipynb#X12sZmlsZQ%3D%3D?line=75'>76</a>\u001b[0m     kmeans\u001b[39m.\u001b[39mfit(eigvectors[:, \u001b[39m1\u001b[39m:k])\n\u001b[0;32m     <a href='vscode-notebook-cell:/d%3A/Workshop/Network%20Anomaly%20Detection/main.ipynb#X12sZmlsZQ%3D%3D?line=77'>78</a>\u001b[0m     \u001b[39mreturn\u001b[39;00m kmeans\u001b[39m.\u001b[39mlabels_\n\u001b[1;32m---> <a href='vscode-notebook-cell:/d%3A/Workshop/Network%20Anomaly%20Detection/main.ipynb#X12sZmlsZQ%3D%3D?line=79'>80</a>\u001b[0m \u001b[39mprint\u001b[39m(ncut(num_training, \u001b[39m23\u001b[39;49m))\n",
      "\u001b[1;32md:\\Workshop\\Network Anomaly Detection\\main.ipynb Cell 10\u001b[0m in \u001b[0;36m7\n\u001b[0;32m     <a href='vscode-notebook-cell:/d%3A/Workshop/Network%20Anomaly%20Detection/main.ipynb#X12sZmlsZQ%3D%3D?line=66'>67</a>\u001b[0m L \u001b[39m=\u001b[39m D \u001b[39m-\u001b[39m S\n\u001b[0;32m     <a href='vscode-notebook-cell:/d%3A/Workshop/Network%20Anomaly%20Detection/main.ipynb#X12sZmlsZQ%3D%3D?line=68'>69</a>\u001b[0m \u001b[39m# Compute sorted eigenvectors of the Laplacian Matrix\u001b[39;00m\n\u001b[1;32m---> <a href='vscode-notebook-cell:/d%3A/Workshop/Network%20Anomaly%20Detection/main.ipynb#X12sZmlsZQ%3D%3D?line=69'>70</a>\u001b[0m vectors, values \u001b[39m=\u001b[39m np\u001b[39m.\u001b[39;49mlinalg\u001b[39m.\u001b[39;49meig(L)\n\u001b[0;32m     <a href='vscode-notebook-cell:/d%3A/Workshop/Network%20Anomaly%20Detection/main.ipynb#X12sZmlsZQ%3D%3D?line=70'>71</a>\u001b[0m eigvectors \u001b[39m=\u001b[39m vecsort(vectors, values)\n\u001b[0;32m     <a href='vscode-notebook-cell:/d%3A/Workshop/Network%20Anomaly%20Detection/main.ipynb#X12sZmlsZQ%3D%3D?line=72'>73</a>\u001b[0m \u001b[39m# Perform K-means clustering on eigenvectors\u001b[39;00m\n\u001b[0;32m     <a href='vscode-notebook-cell:/d%3A/Workshop/Network%20Anomaly%20Detection/main.ipynb#X12sZmlsZQ%3D%3D?line=73'>74</a>\u001b[0m \u001b[39m# TODO: This should be using the developed kmeans algorithm instead of python's built-in method.\u001b[39;00m\n",
      "File \u001b[1;32m<__array_function__ internals>:200\u001b[0m, in \u001b[0;36meig\u001b[1;34m(*args, **kwargs)\u001b[0m\n",
      "File \u001b[1;32m~\\AppData\\Local\\Packages\\PythonSoftwareFoundation.Python.3.9_qbz5n2kfra8p0\\LocalCache\\local-packages\\Python39\\site-packages\\numpy\\linalg\\linalg.py:1304\u001b[0m, in \u001b[0;36meig\u001b[1;34m(a)\u001b[0m\n\u001b[0;32m   1301\u001b[0m extobj \u001b[39m=\u001b[39m get_linalg_error_extobj(\n\u001b[0;32m   1302\u001b[0m     _raise_linalgerror_eigenvalues_nonconvergence)\n\u001b[0;32m   1303\u001b[0m signature \u001b[39m=\u001b[39m \u001b[39m'\u001b[39m\u001b[39mD->DD\u001b[39m\u001b[39m'\u001b[39m \u001b[39mif\u001b[39;00m isComplexType(t) \u001b[39melse\u001b[39;00m \u001b[39m'\u001b[39m\u001b[39md->DD\u001b[39m\u001b[39m'\u001b[39m\n\u001b[1;32m-> 1304\u001b[0m w, vt \u001b[39m=\u001b[39m _umath_linalg\u001b[39m.\u001b[39;49meig(a, signature\u001b[39m=\u001b[39;49msignature, extobj\u001b[39m=\u001b[39;49mextobj)\n\u001b[0;32m   1306\u001b[0m \u001b[39mif\u001b[39;00m \u001b[39mnot\u001b[39;00m isComplexType(t) \u001b[39mand\u001b[39;00m \u001b[39mall\u001b[39m(w\u001b[39m.\u001b[39mimag \u001b[39m==\u001b[39m \u001b[39m0.0\u001b[39m):\n\u001b[0;32m   1307\u001b[0m     w \u001b[39m=\u001b[39m w\u001b[39m.\u001b[39mreal\n",
      "\u001b[1;31mMemoryError\u001b[0m: Unable to allocate 8.94 GiB for an array with shape (24492, 24492) and data type complex128"
     ]
    }
   ],
   "source": [
    "from sklearn.cluster import KMeans\n",
    "from sklearn.metrics.pairwise import cosine_similarity\n",
    "from sklearn.model_selection import train_test_split as tts\n",
    "import numpy as np\n",
    "\n",
    "\n",
    "def vecsort(vectors, values):\n",
    "    \"\"\"\n",
    "    Sorts vectors based on values.\n",
    "\n",
    "    Args:\n",
    "        vectors (nparray): nparray of vectors to be sorted.\n",
    "        values (nparray): nparray of values to be used to sort.\n",
    "\n",
    "    Returns:\n",
    "        nparray: nparray of sorted vectors with respect to values.\n",
    "    \"\"\"\n",
    "    return vectors[:, np.argsort(values)[::-1]]\n",
    "\n",
    "\n",
    "def sim_mat(data, sigma=1.0):\n",
    "    \"\"\"\n",
    "    Constructs the similiarity graph of a given dataset.\n",
    "\n",
    "    Args:\n",
    "        data (ndarray): ndarray of the dataset.\n",
    "        sigma (float, optional): Defaults to 1.0.\n",
    "\n",
    "    Returns:\n",
    "        ndarray: the similarity graph.\n",
    "    \"\"\"\n",
    "    print(data)\n",
    "    n = data.shape[0]\n",
    "    S = np.zeros((n, n))\n",
    "    for i in range(n):\n",
    "        for j in range(i + 1, n):\n",
    "            diff = data[i, :] - data[j, :]\n",
    "            S[i, j] = np.exp(-np.dot(diff, diff) / (2 * sigma ** 2))\n",
    "            S[j, i] = S[i, j]\n",
    "    return S\n",
    "\n",
    "\n",
    "def ncut(data, k, sigma=1.0):\n",
    "    \"\"\"\n",
    "    Splits the data into a training set and testing set with ratio 0.5% for training dataset, then applies the normalized cut algorithm on the reduced training dataset.\n",
    "\n",
    "    Args:\n",
    "        data (pd.DataFrame): pd.DataFrame containing the original dataset.\n",
    "        k (int): number of clusters.\n",
    "        sigma (float, optional): Defaults to 1.0.\n",
    "\n",
    "    Returns:\n",
    "        nparray: nparray of labels after applying the normalized cut algorithm.\n",
    "    \"\"\"\n",
    "    training = tts(data, random_state=42, train_size=0.005)[0]\n",
    "\n",
    "    training = training.astype('float32')\n",
    "\n",
    "    # Construct the similarity graph\n",
    "    S = cosine_similarity(training)\n",
    "\n",
    "    # Construct the degree matrix\n",
    "    degrees = np.sum(S, axis=1)\n",
    "    D = np.diag(degrees)\n",
    "\n",
    "    # Compute Laplacian Matrix\n",
    "    L = D - S\n",
    "\n",
    "    # Compute sorted eigenvectors of the Laplacian Matrix\n",
    "    values, vectors = np.linalg.eig(L)\n",
    "    eigvectors = vecsort(vectors, values)\n",
    "\n",
    "    # Perform K-means clustering on eigenvectors\n",
    "    # TODO: This should be using the developed kmeans algorithm instead of python's built-in method.\n",
    "    kmeans = KMeans(n_clusters=k)\n",
    "    kmeans.fit(eigvectors[:, 1:k])\n",
    "\n",
    "    return kmeans.labels_\n",
    "\n",
    "\n",
    "print(ncut(num_training, 23))\n"
   ]
  }
 ],
 "metadata": {
  "kernelspec": {
   "display_name": "Python 3",
   "language": "python",
   "name": "python3"
  },
  "language_info": {
   "codemirror_mode": {
    "name": "ipython",
    "version": 3
   },
   "file_extension": ".py",
   "mimetype": "text/x-python",
   "name": "python",
   "nbconvert_exporter": "python",
   "pygments_lexer": "ipython3",
   "version": "3.9.13"
  },
  "orig_nbformat": 4
 },
 "nbformat": 4,
 "nbformat_minor": 2
}
