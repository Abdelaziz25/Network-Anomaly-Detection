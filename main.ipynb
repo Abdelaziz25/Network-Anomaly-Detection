{
  "cells": [
    {
      "cell_type": "markdown",
      "metadata": {
        "id": "1rJd4oxpuOOs"
      },
      "source": [
        "# Download Datset and Understand the Format"
      ]
    },
    {
      "cell_type": "code",
      "execution_count": null,
      "metadata": {
        "colab": {
          "base_uri": "https://localhost:8080/",
          "height": 325
        },
        "id": "NsNs-82juSp0",
        "outputId": "78f06603-1b99-4636-f412-4f959849ba1b"
      },
      "outputs": [],
      "source": [
        "import pandas as pd\n",
        "# Collect the data from the zipped files\n",
        "df_training = pd.read_csv('kddcup.data.gz', header=None)\n",
        "df_testing = pd.read_csv('corrected.gz', header=None)\n",
        "df_training_10 = pd.read_csv('kddcup.data_10_percent.gz', header=None)"
      ]
    },
    {
      "cell_type": "code",
      "execution_count": null,
      "metadata": {
        "id": "oG4irohoh94f"
      },
      "outputs": [],
      "source": [
        "# Split the data from labels\n",
        "trlabels = df_training.iloc[:, 41].values\n",
        "tslabels = df_testing.iloc[:, 41].values\n",
        "\n",
        "training = df_training.drop(df_training.columns[41], axis=1)\n",
        "testing = df_testing.drop(df_testing.columns[41], axis=1)\n",
        "\n",
        "# The data after dropping the headers should be of shape (4898431, 41) and (311029, 41)\n",
        "assert (training.shape == (4898431, 41))\n",
        "assert (testing.shape == (311029, 41))\n",
        "print(trlabels)\n",
        "print(tslabels)"
      ]
    },
    {
      "cell_type": "markdown",
      "metadata": {
        "id": "8YMK-FdDiCS3"
      },
      "source": [
        "# Convert the categorical values into numeric values."
      ]
    },
    {
      "cell_type": "code",
      "execution_count": null,
      "metadata": {
        "id": "7J24KT0AiEJf"
      },
      "outputs": [],
      "source": [
        "import numpy as np\n",
        "from sklearn.preprocessing import LabelEncoder\n",
        "\n",
        "def cat_to_num(trcolumn, tscolumn):\n",
        "    \"\"\"\n",
        "    Converts 2 categorical columns of the same types into numerical columns\n",
        "\n",
        "    Args:\n",
        "        trcolumn (ndarray): ndarray of values of the first column.\n",
        "        tscolumn (ndarray): ndarray of values of the second column.\n",
        "\n",
        "    Returns:\n",
        "        tuple: a tuple of 2 ndarrays\n",
        "    \"\"\"\n",
        "    encoder = LabelEncoder()\n",
        "    categories = set(np.unique(trcolumn)).union(set(np.unique(tscolumn)))\n",
        "    encoder.fit(list(categories))\n",
        "    return encoder.transform(trcolumn), encoder.transform(tscolumn)"
      ]
    },
    {
      "cell_type": "code",
      "execution_count": null,
      "metadata": {
        "id": "9ddoRTk0iF7H"
      },
      "outputs": [],
      "source": [
        "# Copy the data into another dataframe to convert its categorical values into numerical.\n",
        "num_training = training.copy()\n",
        "num_testing = testing.copy()\n",
        "\n",
        "# Convert the categorical features.\n",
        "for i in range(1, 4):\n",
        "    values = cat_to_num(num_training.iloc[:, i].values, num_testing.iloc[:, i].values)\n",
        "    num_training.isetitem(i, values[0])\n",
        "    num_testing.isetitem(i, values[1])\n",
        "\n",
        "# Convert the labels.\n",
        "num_trlabels, num_tslabels = cat_to_num(trlabels, tslabels)"
      ]
    },
    {
      "cell_type": "markdown",
      "metadata": {
        "id": "IbWT0YFYiIAu"
      },
      "source": [
        "The data is now available in two forms:\n",
        "\n",
        "Form One (Categorical):\n",
        "\n",
        "training\n",
        "\n",
        "*   trlabels\n",
        "*   tslabels\n",
        "*   training\n",
        "*   testing\n",
        "\n",
        "Form Two (Numerical):\n",
        "\n",
        "*   trlabels\n",
        "*   tslabels\n",
        "*   training\n",
        "*   testing\n",
        "\n"
      ]
    },
    {
      "cell_type": "markdown",
      "metadata": {
        "id": "ZDq4S1n1xk21"
      },
      "source": [
        "# Clustering Using K-Means "
      ]
    },
    {
      "cell_type": "code",
      "execution_count": null,
      "metadata": {
        "id": "yf7WKh0_xnr7"
      },
      "outputs": [],
      "source": [
        "def k_means(X, k, epsilon):\n",
        "    \n",
        "    n_samples, n_features = X.shape\n",
        "    \n",
        "    # Randomly choose k data points as the initial centroids\n",
        "    centroids = X[np.random.choice(n_samples, k, replace=False)]\n",
        "    distances = np.zeros((n_samples, k))\n",
        "    labels = np.zeros(n_samples)\n",
        "    old_centroids = np.zeros((k, n_features))\n",
        "    \n",
        "    # Continue until the centroids don't change by more than epsilon\n",
        "    while np.linalg.norm(centroids - old_centroids) > epsilon:\n",
        "        old_centroids = centroids.copy()\n",
        "        \n",
        "        # Calculate the Euclidean distances from each sample to each centroid\n",
        "        for i in range(k):\n",
        "            distances[:, i] = np.linalg.norm(X - centroids[i], axis=1)\n",
        "        \n",
        "        # Assign each sample to the nearest centroid\n",
        "        labels = np.argmin(distances, axis=1)\n",
        "        \n",
        "        # Update the centroids to be the mean of the samples assigned to them\n",
        "        for i in range(k):\n",
        "            X_i = X[labels == i]\n",
        "            if len(X_i) == 0:\n",
        "                centroids[i] = old_centroids[i]\n",
        "            else:\n",
        "                centroids[i] = np.mean(X_i, axis=0)\n",
        "        \n",
        "    return centroids"
      ]
    },
    {
      "cell_type": "code",
      "execution_count": null,
      "metadata": {
        "colab": {
          "base_uri": "https://localhost:8080/"
        },
        "id": "ykVHa0aAxzMj",
        "outputId": "03af5696-fba1-4c2c-e026-d7bc99b7bcc7"
      },
      "outputs": [],
      "source": [
        "from sklearn.metrics.cluster import contingency_matrix\n",
        "from scipy.optimize import linear_sum_assignment\n",
        "\n",
        "labels = []\n",
        "train = np.array(num_training)\n",
        "test = np.array(num_testing)\n",
        "results = []\n",
        "for K in [7]:\n",
        "    centroids = k_means(train, K, 0.001)\n",
        "    distances = np.linalg.norm(test[:, np.newaxis, :] - centroids, axis=2)\n",
        "    labels = np.argmin(distances, axis=1)\n",
        "    print(labels)\n",
        "    contingency = contingency_matrix(num_tslabels, labels)\n",
        "    row_ind, col_ind = linear_sum_assignment(-contingency)\n",
        "    y_pred = np.zeros_like(labels)\n",
        "    for i, j in zip(row_ind, col_ind):\n",
        "        y_pred[labels == j] = i\n",
        "    results.append(y_pred)\n",
        "    print(results)\n"
      ]
    },
    {
      "cell_type": "markdown",
      "metadata": {
        "id": "ADlJM66mhxkn"
      },
      "source": [
        "# Normalized Cut"
      ]
    },
    {
      "cell_type": "code",
      "execution_count": null,
      "metadata": {
        "id": "QGWFODpJhzQY"
      },
      "outputs": [],
      "source": [
        "from sklearn.cluster import KMeans\n",
        "from sklearn.metrics.pairwise import cosine_similarity\n",
        "from sklearn.model_selection import train_test_split as tts\n",
        "import numpy as np\n",
        "import cmath\n",
        "\n",
        "\n",
        "def vecsort(vectors, values):\n",
        "    \"\"\"\n",
        "    Sorts vectors based on values ascendingly.\n",
        "\n",
        "    Args:\n",
        "        vectors (nparray): nparray of vectors to be sorted.\n",
        "        values (nparray): nparray of values to be used to sort.\n",
        "\n",
        "    Returns:\n",
        "        nparray: nparray of sorted vectors with respect to values.\n",
        "    \"\"\"\n",
        "    return vectors[:, np.argsort(values)[::]]\n",
        "\n",
        "\n",
        "def sim_mat(data, sigma=1.0):\n",
        "    \"\"\"\n",
        "    Constructs the similiarity graph of a given dataset.\n",
        "\n",
        "    Args:\n",
        "        data (ndarray): ndarray of the dataset.\n",
        "        sigma (float, optional): Defaults to 1.0.\n",
        "\n",
        "    Returns:\n",
        "        ndarray: the similarity graph.\n",
        "    \"\"\"\n",
        "    print(data)\n",
        "    n = data.shape[0]\n",
        "    S = np.zeros((n, n))\n",
        "    for i in range(n):\n",
        "        for j in range(i + 1, n):\n",
        "            diff = data[i, :] - data[j, :]\n",
        "            S[i, j] = np.exp(-np.dot(diff, diff) / (2 * sigma ** 2))\n",
        "            S[j, i] = S[i, j]\n",
        "    return S\n",
        "\n",
        "\n",
        "def ncut(data, k, sigma=1.0):\n",
        "    \"\"\"\n",
        "    Splits the data into a training set and testing set with ratio 0.5% for training dataset, then applies the normalized cut algorithm on the reduced training dataset.\n",
        "\n",
        "    Args:\n",
        "        data (pd.DataFrame): pd.DataFrame containing the original dataset.\n",
        "        k (int): number of clusters.\n",
        "        sigma (float, optional): Defaults to 1.0.\n",
        "\n",
        "    Returns:\n",
        "        nparray: nparray of labels after applying the normalized cut algorithm.\n",
        "    \"\"\"\n",
        "    training = tts(data, random_state=42, train_size=0.0015)[0]\n",
        "\n",
        "    # Construct the similarity graph\n",
        "    S = cosine_similarity(training)\n",
        "\n",
        "    # Construct the degree matrix\n",
        "    degrees = np.sum(S, axis=1)\n",
        "    D = np.diag(degrees)\n",
        "\n",
        "    # Compute Laplacian Matrix\n",
        "    L = D - S\n",
        "\n",
        "    # Compute sorted eigenvectors of the Laplacian Matrix\n",
        "    values, vectors = np.linalg.eig(L)\n",
        "    eigvectors = vecsort(vectors, values)\n",
        "\n",
        "    clustering = eigvectors[:, :k]\n",
        "\n",
        "    # Normalize the rows of the clustering matrix\n",
        "    norm = np.linalg.norm(clustering, axis=1)\n",
        "    clustering = (clustering.T / norm).T\n",
        "\n",
        "    # Perform K-means clustering on eigenvectors\n",
        "    # TODO: This should be using the developed kmeans algorithm instead of python's built-in method.\n",
        "    return k_means(clustering, k, 0.01)\n"
      ]
    },
    {
      "cell_type": "markdown",
      "metadata": {
        "id": "EV87vuRmiuv_"
      },
      "source": [
        "# Evaluation"
      ]
    },
    {
      "cell_type": "code",
      "execution_count": null,
      "metadata": {
        "id": "0xEYSxhhivlX"
      },
      "outputs": [],
      "source": [
        "from sklearn.metrics import precision_score, recall_score, f1_score ,mutual_info_score\n",
        "K_range = [7,15,23,31,45]\n",
        "i=0\n",
        "for K in K_range:\n",
        "    print(\"K\",K)\n",
        "    precision = precision_score(results[i],y_test,average='weighted')\n",
        "    print(\"precision\",precision)\n",
        "    recall = recall_score(results[i], y_test, average='weighted')\n",
        "    print(\"recall\",recall)\n",
        "    f1 = f1_score(results[i], y_test, average='weighted') \n",
        "    print(\"f1_score\",f1)\n",
        "    conditional_entropy = mutual_info_score(results[i], y_test)\n",
        "    print(\"conditional_entropy\",conditional_entropy)\n",
        "    i = i+1"
      ]
    },
    {
      "cell_type": "markdown",
      "metadata": {
        "id": "TX_khxtli9nP"
      },
      "source": [
        "# DBSCAN"
      ]
    },
    {
      "cell_type": "code",
      "execution_count": null,
      "metadata": {
        "id": "pSp4YrKSjAnn"
      },
      "outputs": [],
      "source": [
        "vis = []\n",
        "my_dict = {}\n",
        "def dbscan(data, eps, min_samples):\n",
        "    X = data.values\n",
        "    global vis\n",
        "    global my_dict\n",
        "    vis = [0] * len(X)\n",
        "    my_dict = {i: [] for i in range(len(X))}\n",
        "    labels = [0] * len(X)\n",
        "    cluster_id = 0\n",
        "    for i in range(len(X)):\n",
        "        if labels[i] != 0:\n",
        "            continue            \n",
        "        # Find all neighbors of the current point within eps distance\n",
        "        neighbors = get_neighbors(X, i, eps)       \n",
        "        # If the point is not a core point, mark it as an outlier\n",
        "        if len(neighbors) < min_samples:\n",
        "            labels[i] = -1\n",
        "            continue       \n",
        "        # Expand the cluster starting from the current core point\n",
        "        cluster_id += 1\n",
        "        labels[i] = cluster_id\n",
        "        \n",
        "        expand_cluster(X, labels, i, neighbors, eps, min_samples, cluster_id)\n",
        "    \n",
        "    return labels\n",
        "\n",
        "def expand_cluster(X, labels, i, neighbors, eps, min_samples, cluster_id):\n",
        "    \"\"\"\n",
        "    This function expands cluster for the ith \n",
        "    \"\"\"\n",
        "    # Loop over each neighbor of the core point\n",
        "    for j in neighbors:\n",
        "        if labels[j] == -1:\n",
        "            labels[j] = cluster_id\n",
        "        elif labels[j] == 0:\n",
        "            labels[j] = cluster_id        \n",
        "            # Find all neighbors of the current point within eps distance\n",
        "            new_neighbors = get_neighbors(X, j, eps)        \n",
        "            # If the point is a core point, add its neighbors to the list of neighbors\n",
        "            if len(new_neighbors) >= min_samples:\n",
        "                neighbors += new_neighbors\n",
        "\n",
        "def get_neighbors(X, i, eps):\n",
        "    \"\"\"\n",
        "    Thsis functions gets the neighbour for ith instance within given epsilon\n",
        "    \"\"\"\n",
        "    global vis\n",
        "    global my_dict\n",
        "    if vis[i] == 1:\n",
        "        return my_dict[i]\n",
        "    neighbors = []\n",
        "    for j in range(len(X)):\n",
        "        if i == j:\n",
        "            continue\n",
        "            \n",
        "        dist = np.linalg.norm(X[i] - X[j])\n",
        "        if dist <= eps:\n",
        "            neighbors.append(j)\n",
        "    vis[i] = 1\n",
        "    my_dict[i] = neighbors\n",
        "    return neighbors"
      ]
    },
    {
      "cell_type": "code",
      "execution_count": null,
      "metadata": {
        "id": "ErnzhLAZjC0X"
      },
      "outputs": [],
      "source": [
        "from sklearn.model_selection import train_test_split\n",
        "np.random.seed(42)\n",
        "# df_copy = train_data.drop(train_data.columns[-1], axis=1)\n",
        "# df_copy.std()\n",
        "train_data_copy, test_data = train_test_split(train_data, test_size=0.95, random_state=42)\n",
        "train_labels = np.array(train_data_copy.iloc[:, -1])\n",
        "print(f\"Training set size: {len(train_data_copy)}\")"
      ]
    },
    {
      "cell_type": "code",
      "execution_count": null,
      "metadata": {
        "id": "0EVHwgBpjE6_"
      },
      "outputs": [],
      "source": [
        "pred_labels = dbscan(train_data_copy, 15, 3)\n",
        "print(pred_labels)"
      ]
    },
    {
      "attachments": {},
      "cell_type": "markdown",
      "metadata": {},
      "source": [
        "# Evaluation"
      ]
    },
    {
      "cell_type": "code",
      "execution_count": 13,
      "metadata": {},
      "outputs": [],
      "source": [
        "pred_labels = [0, 0, 0, 0, 0, 0, 1, 1, 1, 1, 1, 1, 1, 2, 2, 2, 2, 2]\n",
        "true_labels = [5, 5, 5, 5, 5, 6, 5, 7, 6, 6, 6, 6, 7, 5, 5, 7, 7, 7]"
      ]
    },
    {
      "cell_type": "code",
      "execution_count": 14,
      "metadata": {},
      "outputs": [],
      "source": [
        "def clusterize(pred_labels, true_labels):\n",
        "    if len(pred_labels) != len(true_labels):\n",
        "        raise ValueError(\"The two list should be equal\")\n",
        "    clusters_set = set(pred_labels)\n",
        "    # num_clusters = len(set(pred_labels))\n",
        "    clusters = {}\n",
        "    for cluster in clusters_set:\n",
        "        clusters[cluster] = []\n",
        "    for i in range(len(pred_labels)):\n",
        "        clusters[pred_labels[i]].append(true_labels[i])\n",
        "    return clusters, clusters_set"
      ]
    },
    {
      "cell_type": "code",
      "execution_count": 15,
      "metadata": {},
      "outputs": [
        {
          "data": {
            "text/plain": [
              "({0: [5, 5, 5, 5, 5, 6], 1: [5, 7, 6, 6, 6, 6, 7], 2: [5, 5, 7, 7, 7]},\n",
              " {0, 1, 2})"
            ]
          },
          "execution_count": 15,
          "metadata": {},
          "output_type": "execute_result"
        }
      ],
      "source": [
        "clusterize(pred_labels, true_labels)"
      ]
    },
    {
      "cell_type": "code",
      "execution_count": 31,
      "metadata": {},
      "outputs": [],
      "source": [
        "def precision(pred_labels, true_labels):\n",
        "    clusters, clusters_set = clusterize(pred_labels, true_labels)\n",
        "    res = 0\n",
        "    for cluster in clusters_set:\n",
        "        most_common = max(set(clusters[cluster]), key = clusters[cluster].count)\n",
        "        count = clusters[cluster].count(most_common)\n",
        "        res += (len(clusters[cluster]) / len(true_labels)) * (count / len(clusters[cluster]))\n",
        "    return res"
      ]
    },
    {
      "cell_type": "code",
      "execution_count": 32,
      "metadata": {},
      "outputs": [
        {
          "data": {
            "text/plain": [
              "0.6666666666666666"
            ]
          },
          "execution_count": 32,
          "metadata": {},
          "output_type": "execute_result"
        }
      ],
      "source": [
        "precision(pred_labels, true_labels)"
      ]
    },
    {
      "cell_type": "code",
      "execution_count": 33,
      "metadata": {},
      "outputs": [],
      "source": [
        "def recall(pred_labels, true_labels):\n",
        "    clusters, clusters_set = clusterize(pred_labels, true_labels)\n",
        "    res = 0\n",
        "    r = len(clusters_set)\n",
        "    for cluster in clusters_set:\n",
        "        most_common = max(set(clusters[cluster]), key = clusters[cluster].count)\n",
        "        count = clusters[cluster].count(most_common)\n",
        "        count_total = true_labels.count(most_common)\n",
        "        res += (len(clusters[cluster]) / len(true_labels)) * (count / count_total)\n",
        "    return res"
      ]
    },
    {
      "cell_type": "code",
      "execution_count": 34,
      "metadata": {},
      "outputs": [
        {
          "data": {
            "text/plain": [
              "0.686111111111111"
            ]
          },
          "execution_count": 34,
          "metadata": {},
          "output_type": "execute_result"
        }
      ],
      "source": [
        "recall(pred_labels, true_labels)"
      ]
    },
    {
      "cell_type": "code",
      "execution_count": 41,
      "metadata": {},
      "outputs": [],
      "source": [
        "def f1(pred_labels, true_labels):\n",
        "    clusters, clusters_set = clusterize(pred_labels, true_labels)\n",
        "    res = 0\n",
        "    r = len(clusters_set)\n",
        "    for cluster in clusters_set:\n",
        "        most_common = max(set(clusters[cluster]), key = clusters[cluster].count)\n",
        "        count = clusters[cluster].count(most_common)\n",
        "        count_total = true_labels.count(most_common)\n",
        "        precision =  count / len(clusters[cluster])\n",
        "        recall = count / count_total\n",
        "        f1 = (2 * precision * recall) / (precision + recall)\n",
        "        print(f\"cluster: {cluster} pre: {precision}   rec: {recall}   f1: {f1}\")\n",
        "        res += (float(f1) / float(r))\n",
        "    return res"
      ]
    },
    {
      "cell_type": "code",
      "execution_count": 42,
      "metadata": {},
      "outputs": [
        {
          "name": "stdout",
          "output_type": "stream",
          "text": [
            "cluster: 0 pre: 0.8333333333333334   rec: 0.625   f1: 0.7142857142857143\n",
            "cluster: 1 pre: 0.5714285714285714   rec: 0.8   f1: 0.6666666666666666\n",
            "cluster: 2 pre: 0.6   rec: 0.6   f1: 0.6\n"
          ]
        },
        {
          "data": {
            "text/plain": [
              "0.6603174603174603"
            ]
          },
          "execution_count": 42,
          "metadata": {},
          "output_type": "execute_result"
        }
      ],
      "source": [
        "f1(pred_labels, true_labels)"
      ]
    },
    {
      "cell_type": "code",
      "execution_count": 45,
      "metadata": {},
      "outputs": [],
      "source": [
        "from math import log2\n",
        "def conditional_entropy(pred_labels, true_labels):\n",
        "    clusters, clusters_set = clusterize(pred_labels, true_labels)\n",
        "    res = 0\n",
        "    true_labels_set = set(true_labels)\n",
        "    for cluster in clusters_set:\n",
        "        temp = 0\n",
        "        for t in true_labels_set:\n",
        "            t_count = clusters[cluster].count(t)\n",
        "            if t_count != 0:\n",
        "                temp += -(t_count / len(clusters[cluster])) * log2(t_count / len(clusters[cluster]))\n",
        "        res += (len(clusters[cluster]) / len(true_labels)) * temp\n",
        "    return res"
      ]
    },
    {
      "cell_type": "code",
      "execution_count": 46,
      "metadata": {},
      "outputs": [
        {
          "data": {
            "text/plain": [
              "1.022576219809261"
            ]
          },
          "execution_count": 46,
          "metadata": {},
          "output_type": "execute_result"
        }
      ],
      "source": [
        "conditional_entropy(pred_labels, true_labels)"
      ]
    }
  ],
  "metadata": {
    "colab": {
      "provenance": []
    },
    "kernelspec": {
      "display_name": "Python 3",
      "name": "python3"
    },
    "language_info": {
      "codemirror_mode": {
        "name": "ipython",
        "version": 3
      },
      "file_extension": ".py",
      "mimetype": "text/x-python",
      "name": "python",
      "nbconvert_exporter": "python",
      "pygments_lexer": "ipython3",
      "version": "3.10.9"
    }
  },
  "nbformat": 4,
  "nbformat_minor": 0
}
