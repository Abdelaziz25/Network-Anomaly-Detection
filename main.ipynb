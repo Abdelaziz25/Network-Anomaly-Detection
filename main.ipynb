{
 "cells": [
  {
   "attachments": {},
   "cell_type": "markdown",
   "metadata": {},
   "source": [
    "# Dataset Processing"
   ]
  },
  {
   "attachments": {},
   "cell_type": "markdown",
   "metadata": {},
   "source": [
    "## Read the training and testing data and save them into pandas dataframes."
   ]
  },
  {
   "cell_type": "code",
   "execution_count": 1,
   "metadata": {},
   "outputs": [],
   "source": [
    "import pandas as pd\n",
    "\n",
    "# Collect the data from the zipped files\n",
    "df_training = pd.read_csv('kddcup.data.gz', header=None)\n",
    "df_testing = pd.read_csv('corrected.gz', header=None)"
   ]
  },
  {
   "cell_type": "code",
   "execution_count": 2,
   "metadata": {},
   "outputs": [
    {
     "name": "stdout",
     "output_type": "stream",
     "text": [
      "['normal.' 'normal.' 'normal.' ... 'normal.' 'normal.' 'normal.']\n",
      "['normal.' 'normal.' 'normal.' ... 'normal.' 'normal.' 'normal.']\n"
     ]
    }
   ],
   "source": [
    "# Split the data from labels\n",
    "trlabels = df_training.iloc[:, 41].values\n",
    "tslabels = df_testing.iloc[:, 41].values\n",
    "\n",
    "training = df_training.drop(df_training.columns[41], axis=1)\n",
    "testing = df_testing.drop(df_testing.columns[41], axis=1)\n",
    "\n",
    "# The data after dropping the headers should be of shape (4898431, 41) and (311029, 41)\n",
    "assert (training.shape == (4898431, 41))\n",
    "assert (testing.shape == (311029, 41))\n",
    "print(trlabels)\n",
    "print(tslabels)"
   ]
  },
  {
   "attachments": {},
   "cell_type": "markdown",
   "metadata": {},
   "source": [
    "## Convert the categorical values into numeric values."
   ]
  },
  {
   "cell_type": "code",
   "execution_count": 3,
   "metadata": {},
   "outputs": [],
   "source": [
    "import numpy as np\n",
    "from sklearn.preprocessing import LabelEncoder\n",
    "\n",
    "def cat_to_num(trcolumn, tscolumn):\n",
    "    \"\"\"\n",
    "    Converts 2 categorical columns of the same types into numerical columns\n",
    "\n",
    "    Args:\n",
    "        trcolumn (ndarray): ndarray of values of the first column.\n",
    "        tscolumn (ndarray): ndarray of values of the second column.\n",
    "\n",
    "    Returns:\n",
    "        tuple: a tuple of 2 ndarrays\n",
    "    \"\"\"\n",
    "    encoder = LabelEncoder()\n",
    "    categories = set(np.unique(trcolumn)).union(set(np.unique(tscolumn)))\n",
    "    encoder.fit(list(categories))\n",
    "    return encoder.transform(trcolumn), encoder.transform(tscolumn)\n"
   ]
  },
  {
   "cell_type": "code",
   "execution_count": 4,
   "metadata": {},
   "outputs": [],
   "source": [
    "# Copy the data into another dataframe to convert its categorical values into numerical.\n",
    "num_training = training.copy()\n",
    "num_testing = testing.copy()\n",
    "\n",
    "# Convert the categorical features.\n",
    "for i in range(1, 4):\n",
    "    values = cat_to_num(num_training.iloc[:, i].values, num_testing.iloc[:, i].values)\n",
    "    num_training.isetitem(i, values[0])\n",
    "    num_testing.isetitem(i, values[1])\n",
    "\n",
    "# Convert the labels.\n",
    "num_trlabels, num_tslabels = cat_to_num(trlabels, tslabels)"
   ]
  },
  {
   "attachments": {},
   "cell_type": "markdown",
   "metadata": {},
   "source": [
    "The data is now available in two forms:\n",
    "* Form One (Categorical):\n",
    "    * training\n",
    "    * testing\n",
    "    * trlabels\n",
    "    * tslabels\n",
    "\n",
    "* Form Two (Numerical):\n",
    "    * training\n",
    "    * testing\n",
    "    * trlabels\n",
    "    * tslabels"
   ]
  },
  {
   "attachments": {},
   "cell_type": "markdown",
   "metadata": {},
   "source": [
    "# Normalized Cut"
   ]
  },
  {
   "cell_type": "code",
   "execution_count": 40,
   "metadata": {},
   "outputs": [],
   "source": [
    "from sklearn.cluster import KMeans\n",
    "from sklearn.metrics.pairwise import cosine_similarity\n",
    "from sklearn.model_selection import train_test_split as tts\n",
    "import numpy as np\n",
    "import cmath\n",
    "\n",
    "\n",
    "def vecsort(vectors, values):\n",
    "    \"\"\"\n",
    "    Sorts vectors based on values ascendingly.\n",
    "\n",
    "    Args:\n",
    "        vectors (nparray): nparray of vectors to be sorted.\n",
    "        values (nparray): nparray of values to be used to sort.\n",
    "\n",
    "    Returns:\n",
    "        nparray: nparray of sorted vectors with respect to values.\n",
    "    \"\"\"\n",
    "    return vectors[:, np.argsort(values)[::]]\n",
    "\n",
    "\n",
    "def sim_mat(data, sigma=1.0):\n",
    "    \"\"\"\n",
    "    Constructs the similiarity graph of a given dataset.\n",
    "\n",
    "    Args:\n",
    "        data (ndarray): ndarray of the dataset.\n",
    "        sigma (float, optional): Defaults to 1.0.\n",
    "\n",
    "    Returns:\n",
    "        ndarray: the similarity graph.\n",
    "    \"\"\"\n",
    "    print(data)\n",
    "    n = data.shape[0]\n",
    "    S = np.zeros((n, n))\n",
    "    for i in range(n):\n",
    "        for j in range(i + 1, n):\n",
    "            diff = data[i, :] - data[j, :]\n",
    "            S[i, j] = np.exp(-np.dot(diff, diff) / (2 * sigma ** 2))\n",
    "            S[j, i] = S[i, j]\n",
    "    return S\n",
    "\n",
    "\n",
    "def ncut(data, k, sigma=1.0):\n",
    "    \"\"\"\n",
    "    Splits the data into a training set and testing set with ratio 0.5% for training dataset, then applies the normalized cut algorithm on the reduced training dataset.\n",
    "\n",
    "    Args:\n",
    "        data (pd.DataFrame): pd.DataFrame containing the original dataset.\n",
    "        k (int): number of clusters.\n",
    "        sigma (float, optional): Defaults to 1.0.\n",
    "\n",
    "    Returns:\n",
    "        nparray: nparray of labels after applying the normalized cut algorithm.\n",
    "    \"\"\"\n",
    "    training = tts(data, random_state=42, train_size=0.0015)[0]\n",
    "\n",
    "    # Construct the similarity graph\n",
    "    S = cosine_similarity(training)\n",
    "\n",
    "    # Construct the degree matrix\n",
    "    degrees = np.sum(S, axis=1)\n",
    "    D = np.diag(degrees)\n",
    "\n",
    "    # Compute Laplacian Matrix\n",
    "    L = D - S\n",
    "\n",
    "    # Compute sorted eigenvectors of the Laplacian Matrix\n",
    "    values, vectors = np.linalg.eig(L)\n",
    "    eigvectors = vecsort(vectors, values)\n",
    "\n",
    "    clustering = eigvectors[:, :k]\n",
    "\n",
    "    # Normalize the rows of the clustering matrix\n",
    "    norm = np.linalg.norm(clustering, axis=1)\n",
    "    clustering = (clustering.T / norm).T\n",
    "    \n",
    "    # Perform K-means clustering on eigenvectors\n",
    "    # TODO: This should be using the developed kmeans algorithm instead of python's built-in method.\n",
    "    kmeans = KMeans(n_clusters=k)\n",
    "    kmeans.fit(clustering)\n",
    "\n",
    "    return kmeans.labels_\n"
   ]
  },
  {
   "cell_type": "code",
   "execution_count": 41,
   "metadata": {},
   "outputs": [
    {
     "ename": "ValueError",
     "evalue": "Complex data not supported\n[[ 0.99810328+0.j -0.01749694+0.j -0.01621382+0.j ...  0.00720578+0.j\n   0.00704453+0.j  0.01227332+0.j]\n [ 0.99809923+0.j -0.01748633+0.j -0.01619226+0.j ...  0.00722722+0.j\n   0.0070652 +0.j  0.01231313+0.j]\n [ 0.99810335+0.j -0.01749682+0.j -0.01621369+0.j ...  0.00720559+0.j\n   0.00704435+0.j  0.01227295+0.j]\n ...\n [ 0.99810322+0.j -0.01749706+0.j -0.01621394+0.j ...  0.00720596+0.j\n   0.00704471+0.j  0.0122737 +0.j]\n [ 0.99809627+0.j -0.01749267+0.j -0.0161992 +0.j ...  0.00723548+0.j\n   0.00707333+0.j  0.01232995+0.j]\n [ 0.99810322+0.j -0.01749706+0.j -0.01621394+0.j ...  0.00720596+0.j\n   0.00704471+0.j  0.0122737 +0.j]]\n",
     "output_type": "error",
     "traceback": [
      "\u001b[1;31m---------------------------------------------------------------------------\u001b[0m",
      "\u001b[1;31mComplexWarning\u001b[0m                            Traceback (most recent call last)",
      "File \u001b[1;32m~\\AppData\\Local\\Packages\\PythonSoftwareFoundation.Python.3.9_qbz5n2kfra8p0\\LocalCache\\local-packages\\Python39\\site-packages\\sklearn\\utils\\validation.py:879\u001b[0m, in \u001b[0;36mcheck_array\u001b[1;34m(array, accept_sparse, accept_large_sparse, dtype, order, copy, force_all_finite, ensure_2d, allow_nd, ensure_min_samples, ensure_min_features, estimator, input_name)\u001b[0m\n\u001b[0;32m    878\u001b[0m     \u001b[39melse\u001b[39;00m:\n\u001b[1;32m--> 879\u001b[0m         array \u001b[39m=\u001b[39m _asarray_with_order(array, order\u001b[39m=\u001b[39;49morder, dtype\u001b[39m=\u001b[39;49mdtype, xp\u001b[39m=\u001b[39;49mxp)\n\u001b[0;32m    880\u001b[0m \u001b[39mexcept\u001b[39;00m ComplexWarning \u001b[39mas\u001b[39;00m complex_warning:\n",
      "File \u001b[1;32m~\\AppData\\Local\\Packages\\PythonSoftwareFoundation.Python.3.9_qbz5n2kfra8p0\\LocalCache\\local-packages\\Python39\\site-packages\\sklearn\\utils\\_array_api.py:185\u001b[0m, in \u001b[0;36m_asarray_with_order\u001b[1;34m(array, dtype, order, copy, xp)\u001b[0m\n\u001b[0;32m    183\u001b[0m \u001b[39mif\u001b[39;00m xp\u001b[39m.\u001b[39m\u001b[39m__name__\u001b[39m \u001b[39min\u001b[39;00m {\u001b[39m\"\u001b[39m\u001b[39mnumpy\u001b[39m\u001b[39m\"\u001b[39m, \u001b[39m\"\u001b[39m\u001b[39mnumpy.array_api\u001b[39m\u001b[39m\"\u001b[39m}:\n\u001b[0;32m    184\u001b[0m     \u001b[39m# Use NumPy API to support order\u001b[39;00m\n\u001b[1;32m--> 185\u001b[0m     array \u001b[39m=\u001b[39m numpy\u001b[39m.\u001b[39;49masarray(array, order\u001b[39m=\u001b[39;49morder, dtype\u001b[39m=\u001b[39;49mdtype)\n\u001b[0;32m    186\u001b[0m     \u001b[39mreturn\u001b[39;00m xp\u001b[39m.\u001b[39masarray(array, copy\u001b[39m=\u001b[39mcopy)\n",
      "\u001b[1;31mComplexWarning\u001b[0m: Casting complex values to real discards the imaginary part",
      "\nThe above exception was the direct cause of the following exception:\n",
      "\u001b[1;31mValueError\u001b[0m                                Traceback (most recent call last)",
      "\u001b[1;32md:\\Workshop\\Network Anomaly Detection\\main.ipynb Cell 11\u001b[0m in \u001b[0;36m1\n\u001b[1;32m----> <a href='vscode-notebook-cell:/d%3A/Workshop/Network%20Anomaly%20Detection/main.ipynb#X13sZmlsZQ%3D%3D?line=0'>1</a>\u001b[0m result \u001b[39m=\u001b[39m ncut(num_training, \u001b[39m23\u001b[39;49m)\n",
      "\u001b[1;32md:\\Workshop\\Network Anomaly Detection\\main.ipynb Cell 11\u001b[0m in \u001b[0;36m8\n\u001b[0;32m     <a href='vscode-notebook-cell:/d%3A/Workshop/Network%20Anomaly%20Detection/main.ipynb#X13sZmlsZQ%3D%3D?line=77'>78</a>\u001b[0m \u001b[39m# Perform K-means clustering on eigenvectors\u001b[39;00m\n\u001b[0;32m     <a href='vscode-notebook-cell:/d%3A/Workshop/Network%20Anomaly%20Detection/main.ipynb#X13sZmlsZQ%3D%3D?line=78'>79</a>\u001b[0m \u001b[39m# TODO: This should be using the developed kmeans algorithm instead of python's built-in method.\u001b[39;00m\n\u001b[0;32m     <a href='vscode-notebook-cell:/d%3A/Workshop/Network%20Anomaly%20Detection/main.ipynb#X13sZmlsZQ%3D%3D?line=79'>80</a>\u001b[0m kmeans \u001b[39m=\u001b[39m KMeans(n_clusters\u001b[39m=\u001b[39mk)\n\u001b[1;32m---> <a href='vscode-notebook-cell:/d%3A/Workshop/Network%20Anomaly%20Detection/main.ipynb#X13sZmlsZQ%3D%3D?line=80'>81</a>\u001b[0m kmeans\u001b[39m.\u001b[39;49mfit(clustering)\n\u001b[0;32m     <a href='vscode-notebook-cell:/d%3A/Workshop/Network%20Anomaly%20Detection/main.ipynb#X13sZmlsZQ%3D%3D?line=82'>83</a>\u001b[0m \u001b[39mreturn\u001b[39;00m kmeans\u001b[39m.\u001b[39mlabels_\n",
      "File \u001b[1;32m~\\AppData\\Local\\Packages\\PythonSoftwareFoundation.Python.3.9_qbz5n2kfra8p0\\LocalCache\\local-packages\\Python39\\site-packages\\sklearn\\cluster\\_kmeans.py:1417\u001b[0m, in \u001b[0;36mKMeans.fit\u001b[1;34m(self, X, y, sample_weight)\u001b[0m\n\u001b[0;32m   1390\u001b[0m \u001b[39m\"\"\"Compute k-means clustering.\u001b[39;00m\n\u001b[0;32m   1391\u001b[0m \n\u001b[0;32m   1392\u001b[0m \u001b[39mParameters\u001b[39;00m\n\u001b[1;32m   (...)\u001b[0m\n\u001b[0;32m   1413\u001b[0m \u001b[39m    Fitted estimator.\u001b[39;00m\n\u001b[0;32m   1414\u001b[0m \u001b[39m\"\"\"\u001b[39;00m\n\u001b[0;32m   1415\u001b[0m \u001b[39mself\u001b[39m\u001b[39m.\u001b[39m_validate_params()\n\u001b[1;32m-> 1417\u001b[0m X \u001b[39m=\u001b[39m \u001b[39mself\u001b[39;49m\u001b[39m.\u001b[39;49m_validate_data(\n\u001b[0;32m   1418\u001b[0m     X,\n\u001b[0;32m   1419\u001b[0m     accept_sparse\u001b[39m=\u001b[39;49m\u001b[39m\"\u001b[39;49m\u001b[39mcsr\u001b[39;49m\u001b[39m\"\u001b[39;49m,\n\u001b[0;32m   1420\u001b[0m     dtype\u001b[39m=\u001b[39;49m[np\u001b[39m.\u001b[39;49mfloat64, np\u001b[39m.\u001b[39;49mfloat32],\n\u001b[0;32m   1421\u001b[0m     order\u001b[39m=\u001b[39;49m\u001b[39m\"\u001b[39;49m\u001b[39mC\u001b[39;49m\u001b[39m\"\u001b[39;49m,\n\u001b[0;32m   1422\u001b[0m     copy\u001b[39m=\u001b[39;49m\u001b[39mself\u001b[39;49m\u001b[39m.\u001b[39;49mcopy_x,\n\u001b[0;32m   1423\u001b[0m     accept_large_sparse\u001b[39m=\u001b[39;49m\u001b[39mFalse\u001b[39;49;00m,\n\u001b[0;32m   1424\u001b[0m )\n\u001b[0;32m   1426\u001b[0m \u001b[39mself\u001b[39m\u001b[39m.\u001b[39m_check_params_vs_input(X)\n\u001b[0;32m   1428\u001b[0m random_state \u001b[39m=\u001b[39m check_random_state(\u001b[39mself\u001b[39m\u001b[39m.\u001b[39mrandom_state)\n",
      "File \u001b[1;32m~\\AppData\\Local\\Packages\\PythonSoftwareFoundation.Python.3.9_qbz5n2kfra8p0\\LocalCache\\local-packages\\Python39\\site-packages\\sklearn\\base.py:565\u001b[0m, in \u001b[0;36mBaseEstimator._validate_data\u001b[1;34m(self, X, y, reset, validate_separately, **check_params)\u001b[0m\n\u001b[0;32m    563\u001b[0m     \u001b[39mraise\u001b[39;00m \u001b[39mValueError\u001b[39;00m(\u001b[39m\"\u001b[39m\u001b[39mValidation should be done on X, y or both.\u001b[39m\u001b[39m\"\u001b[39m)\n\u001b[0;32m    564\u001b[0m \u001b[39melif\u001b[39;00m \u001b[39mnot\u001b[39;00m no_val_X \u001b[39mand\u001b[39;00m no_val_y:\n\u001b[1;32m--> 565\u001b[0m     X \u001b[39m=\u001b[39m check_array(X, input_name\u001b[39m=\u001b[39m\u001b[39m\"\u001b[39m\u001b[39mX\u001b[39m\u001b[39m\"\u001b[39m, \u001b[39m*\u001b[39m\u001b[39m*\u001b[39mcheck_params)\n\u001b[0;32m    566\u001b[0m     out \u001b[39m=\u001b[39m X\n\u001b[0;32m    567\u001b[0m \u001b[39melif\u001b[39;00m no_val_X \u001b[39mand\u001b[39;00m \u001b[39mnot\u001b[39;00m no_val_y:\n",
      "File \u001b[1;32m~\\AppData\\Local\\Packages\\PythonSoftwareFoundation.Python.3.9_qbz5n2kfra8p0\\LocalCache\\local-packages\\Python39\\site-packages\\sklearn\\utils\\validation.py:881\u001b[0m, in \u001b[0;36mcheck_array\u001b[1;34m(array, accept_sparse, accept_large_sparse, dtype, order, copy, force_all_finite, ensure_2d, allow_nd, ensure_min_samples, ensure_min_features, estimator, input_name)\u001b[0m\n\u001b[0;32m    879\u001b[0m             array \u001b[39m=\u001b[39m _asarray_with_order(array, order\u001b[39m=\u001b[39morder, dtype\u001b[39m=\u001b[39mdtype, xp\u001b[39m=\u001b[39mxp)\n\u001b[0;32m    880\u001b[0m     \u001b[39mexcept\u001b[39;00m ComplexWarning \u001b[39mas\u001b[39;00m complex_warning:\n\u001b[1;32m--> 881\u001b[0m         \u001b[39mraise\u001b[39;00m \u001b[39mValueError\u001b[39;00m(\n\u001b[0;32m    882\u001b[0m             \u001b[39m\"\u001b[39m\u001b[39mComplex data not supported\u001b[39m\u001b[39m\\n\u001b[39;00m\u001b[39m{}\u001b[39;00m\u001b[39m\\n\u001b[39;00m\u001b[39m\"\u001b[39m\u001b[39m.\u001b[39mformat(array)\n\u001b[0;32m    883\u001b[0m         ) \u001b[39mfrom\u001b[39;00m \u001b[39mcomplex_warning\u001b[39;00m\n\u001b[0;32m    885\u001b[0m \u001b[39m# It is possible that the np.array(..) gave no warning. This happens\u001b[39;00m\n\u001b[0;32m    886\u001b[0m \u001b[39m# when no dtype conversion happened, for example dtype = None. The\u001b[39;00m\n\u001b[0;32m    887\u001b[0m \u001b[39m# result is that np.array(..) produces an array of complex dtype\u001b[39;00m\n\u001b[0;32m    888\u001b[0m \u001b[39m# and we need to catch and raise exception for such cases.\u001b[39;00m\n\u001b[0;32m    889\u001b[0m _ensure_no_complex_data(array)\n",
      "\u001b[1;31mValueError\u001b[0m: Complex data not supported\n[[ 0.99810328+0.j -0.01749694+0.j -0.01621382+0.j ...  0.00720578+0.j\n   0.00704453+0.j  0.01227332+0.j]\n [ 0.99809923+0.j -0.01748633+0.j -0.01619226+0.j ...  0.00722722+0.j\n   0.0070652 +0.j  0.01231313+0.j]\n [ 0.99810335+0.j -0.01749682+0.j -0.01621369+0.j ...  0.00720559+0.j\n   0.00704435+0.j  0.01227295+0.j]\n ...\n [ 0.99810322+0.j -0.01749706+0.j -0.01621394+0.j ...  0.00720596+0.j\n   0.00704471+0.j  0.0122737 +0.j]\n [ 0.99809627+0.j -0.01749267+0.j -0.0161992 +0.j ...  0.00723548+0.j\n   0.00707333+0.j  0.01232995+0.j]\n [ 0.99810322+0.j -0.01749706+0.j -0.01621394+0.j ...  0.00720596+0.j\n   0.00704471+0.j  0.0122737 +0.j]]\n"
     ]
    }
   ],
   "source": [
    "result = ncut(num_training, 23)"
   ]
  },
  {
   "cell_type": "code",
   "execution_count": 44,
   "metadata": {},
   "outputs": [
    {
     "name": "stdout",
     "output_type": "stream",
     "text": [
      "     0\n",
      "0   21\n",
      "1    1\n",
      "2    8\n",
      "3    1\n",
      "4    1\n",
      "5   10\n",
      "6    1\n",
      "7    1\n",
      "8    1\n",
      "9    1\n",
      "10   2\n",
      "11   1\n",
      "12   1\n",
      "13   1\n",
      "14   7\n",
      "15   1\n",
      "16   1\n",
      "17   9\n",
      "18   4\n",
      "19   1\n",
      "20   1\n",
      "21   1\n",
      "22  20\n",
      "23   5\n",
      "24   1\n",
      "25   0\n",
      "26   1\n",
      "27  16\n",
      "28   1\n",
      "29   4\n",
      "30   1\n",
      "31  17\n",
      "32  11\n",
      "33   1\n",
      "34  13\n",
      "35   1\n",
      "36  14\n",
      "37   1\n",
      "38  12\n",
      "39  22\n",
      "40   3\n",
      "41  15\n",
      "42  19\n",
      "43   6\n",
      "44   5\n",
      "45   1\n",
      "46  18\n",
      "47   1\n"
     ]
    }
   ],
   "source": [
    "print(pd.DataFrame(result))"
   ]
  }
 ],
 "metadata": {
  "kernelspec": {
   "display_name": "Python 3",
   "language": "python",
   "name": "python3"
  },
  "language_info": {
   "codemirror_mode": {
    "name": "ipython",
    "version": 3
   },
   "file_extension": ".py",
   "mimetype": "text/x-python",
   "name": "python",
   "nbconvert_exporter": "python",
   "pygments_lexer": "ipython3",
   "version": "3.9.13"
  },
  "orig_nbformat": 4
 },
 "nbformat": 4,
 "nbformat_minor": 2
}
