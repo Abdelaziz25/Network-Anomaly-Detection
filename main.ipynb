{
 "cells": [
  {
   "attachments": {},
   "cell_type": "markdown",
   "metadata": {},
   "source": [
    "# Dataset Processing"
   ]
  },
  {
   "attachments": {},
   "cell_type": "markdown",
   "metadata": {},
   "source": [
    "## Read the training and testing data and save them into pandas dataframes."
   ]
  },
  {
   "cell_type": "code",
   "execution_count": 20,
   "metadata": {},
   "outputs": [],
   "source": [
    "import pandas as pd\n",
    "\n",
    "# Collect the data from the zipped files\n",
    "df_training = pd.read_csv('kddcup.data.gz', header=None)\n",
    "df_testing = pd.read_csv('corrected.gz', header=None)"
   ]
  },
  {
   "cell_type": "code",
   "execution_count": 22,
   "metadata": {},
   "outputs": [
    {
     "name": "stdout",
     "output_type": "stream",
     "text": [
      "['normal.' 'normal.' 'normal.' ... 'normal.' 'normal.' 'normal.']\n",
      "['normal.' 'normal.' 'normal.' ... 'normal.' 'normal.' 'normal.']\n"
     ]
    }
   ],
   "source": [
    "# Split the data from labels\n",
    "trlabels = df_training.iloc[:, 41].values\n",
    "tslabels = df_testing.iloc[:, 41].values\n",
    "\n",
    "training = df_training.drop(df_training.columns[41], axis=1)\n",
    "testing = df_testing.drop(df_testing.columns[41], axis=1)\n",
    "\n",
    "# The data after dropping the headers should be of shape (4898431, 41) and (311029, 41)\n",
    "assert (training.shape == (4898431, 41))\n",
    "assert (testing.shape == (311029, 41))\n",
    "print(trlabels)\n",
    "print(tslabels)"
   ]
  },
  {
   "attachments": {},
   "cell_type": "markdown",
   "metadata": {},
   "source": [
    "## Convert the categorical values into numeric values."
   ]
  },
  {
   "cell_type": "code",
   "execution_count": 35,
   "metadata": {},
   "outputs": [],
   "source": [
    "import numpy as np\n",
    "from sklearn.preprocessing import LabelEncoder\n",
    "\n",
    "def cat_to_num(trcolumn, tscolumn):\n",
    "    \"\"\"\n",
    "    Converts 2 categorical columns of the same types into numerical columns\n",
    "\n",
    "    Args:\n",
    "        trcolumn (ndarray): ndarray of values of the first column.\n",
    "        tscolumn (ndarray): ndarray of values of the second column.\n",
    "\n",
    "    Returns:\n",
    "        tuple: a tuple of 2 ndarrays\n",
    "    \"\"\"\n",
    "    encoder = LabelEncoder()\n",
    "    categories = set(np.unique(trcolumn)).union(set(np.unique(tscolumn)))\n",
    "    encoder.fit(list(categories))\n",
    "    return encoder.transform(trcolumn), encoder.transform(tscolumn)\n"
   ]
  },
  {
   "cell_type": "code",
   "execution_count": 39,
   "metadata": {},
   "outputs": [],
   "source": [
    "# Copy the data into another dataframe to convert its categorical values into numerical.\n",
    "num_training = training.copy()\n",
    "num_testing = testing.copy()\n",
    "\n",
    "# Convert the categorical features.\n",
    "for i in range(1, 4):\n",
    "    values = cat_to_num(num_training.iloc[:, i].values, num_testing.iloc[:, i].values)\n",
    "    num_training.isetitem(i, values[0])\n",
    "    num_testing.isetitem(i, values[1])\n",
    "\n",
    "# Convert the labels.\n",
    "num_trlabels, num_tslabels = cat_to_num(trlabels, tslabels)"
   ]
  },
  {
   "attachments": {},
   "cell_type": "markdown",
   "metadata": {},
   "source": [
    "The data is now available in two forms:\n",
    "* Form One (Categorical):\n",
    "    * training\n",
    "    * testing\n",
    "    * trlabels\n",
    "    * tslabels\n",
    "\n",
    "* Form Two (Numerical):\n",
    "    * training\n",
    "    * testing\n",
    "    * trlabels\n",
    "    * tslabels"
   ]
  },
  {
   "attachments": {},
   "cell_type": "markdown",
   "metadata": {},
   "source": [
    "Clustering Using K-Means"
   ]
  },
  {
   "cell_type": "code",
   "execution_count": null,
   "metadata": {},
   "outputs": [],
   "source": [
    "import numpy as np\n",
    "\n",
    "def k_means(X, k, epsilon):\n",
    "    \n",
    "    n_samples, n_features = X.shape\n",
    "    \n",
    "    # Randomly choose k data points as the initial centroids\n",
    "    centroids = X[np.random.choice(n_samples, k, replace=False)]\n",
    "    distances = np.zeros((n_samples, k))\n",
    "    labels = np.zeros(n_samples)\n",
    "    old_centroids = np.zeros((k, n_features))\n",
    "    \n",
    "    # Continue until the centroids don't change by more than epsilon\n",
    "    while np.linalg.norm(centroids - old_centroids) > epsilon:\n",
    "        old_centroids = centroids.copy()\n",
    "        \n",
    "        # Calculate the Euclidean distances from each sample to each centroid\n",
    "        for i in range(k):\n",
    "            distances[:, i] = np.linalg.norm(X - centroids[i], axis=1)\n",
    "        \n",
    "        # Assign each sample to the nearest centroid\n",
    "        labels = np.argmin(distances, axis=1)\n",
    "        \n",
    "        # Update the centroids to be the mean of the samples assigned to them\n",
    "        for i in range(k):\n",
    "            X_i = X[labels == i]\n",
    "            if len(X_i) == 0:\n",
    "                centroids[i] = old_centroids[i]\n",
    "            else:\n",
    "                centroids[i] = np.mean(X_i, axis=0)\n",
    "        \n",
    "    return centroids"
   ]
  },
  {
   "cell_type": "code",
   "execution_count": null,
   "metadata": {},
   "outputs": [],
   "source": [
    "import numpy as np\n",
    "from sklearn.metrics.cluster import contingency_matrix\n",
    "from scipy.optimize import linear_sum_assignment\n",
    "label = []\n",
    "train = np.array(train_data.drop(train_data.columns[-1], axis=1))\n",
    "test = np.array(test_data.drop(train_data.columns[-1], axis=1))\n",
    "results = []\n",
    "for K in [7,15,23,31,45]:\n",
    "    centroids = k_means(train,K,0.001)\n",
    "    distances = np.linalg.norm(test[:, np.newaxis, :] - centroids, axis=2)\n",
    "    labels = np.argmin(distances, axis=1)\n",
    "    contingency = contingency_matrix(y_test, labels)\n",
    "    row_ind, col_ind = linear_sum_assignment(-contingency)\n",
    "    y_pred = np.zeros_like(labels)\n",
    "    for i, j in zip(row_ind, col_ind):\n",
    "       y_pred[labels == j] = i\n",
    "    results.append(y_pred)\n",
    "    print(results)"
   ]
  },
  {
   "attachments": {},
   "cell_type": "markdown",
   "metadata": {},
   "source": [
    "Evaluation"
   ]
  },
  {
   "cell_type": "code",
   "execution_count": null,
   "metadata": {},
   "outputs": [],
   "source": [
    "from sklearn.metrics import precision_score, recall_score, f1_score ,mutual_info_score\n",
    "K_range = [7,15,23,31,45]\n",
    "i=0\n",
    "for K in K_range:\n",
    "    print(\"K\",K)\n",
    "    precision = precision_score(results[i],y_test,average='weighted')\n",
    "    print(\"precision\",precision)\n",
    "    recall = recall_score(results[i], y_test, average='weighted')\n",
    "    print(\"recall\",recall)\n",
    "    f1 = f1_score(results[i], y_test, average='weighted') \n",
    "    print(\"f1_score\",f1)\n",
    "    conditional_entropy = mutual_info_score(results[i], y_test)\n",
    "    print(\"conditional_entropy\",conditional_entropy)\n",
    "    i = i+1"
   ]
  }
 ],
 "metadata": {
  "kernelspec": {
   "display_name": "Python 3",
   "language": "python",
   "name": "python3"
  },
  "language_info": {
   "codemirror_mode": {
    "name": "ipython",
    "version": 3
   },
   "file_extension": ".py",
   "mimetype": "text/x-python",
   "name": "python",
   "nbconvert_exporter": "python",
   "pygments_lexer": "ipython3",
   "version": "3.9.13"
  },
  "orig_nbformat": 4
 },
 "nbformat": 4,
 "nbformat_minor": 2
}
