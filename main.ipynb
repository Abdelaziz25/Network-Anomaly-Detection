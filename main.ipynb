{
 "cells": [
  {
   "attachments": {},
   "cell_type": "markdown",
   "metadata": {},
   "source": [
    "# Dataset Processing"
   ]
  },
  {
   "attachments": {},
   "cell_type": "markdown",
   "metadata": {},
   "source": [
    "## Read the training and testing data and save them into pandas dataframes."
   ]
  },
  {
   "cell_type": "code",
   "execution_count": 20,
   "metadata": {},
   "outputs": [],
   "source": [
    "import pandas as pd\n",
    "\n",
    "# Collect the data from the zipped files\n",
    "df_training = pd.read_csv('kddcup.data.gz', header=None)\n",
    "df_testing = pd.read_csv('corrected.gz', header=None)"
   ]
  },
  {
   "cell_type": "code",
   "execution_count": 22,
   "metadata": {},
   "outputs": [
    {
     "name": "stdout",
     "output_type": "stream",
     "text": [
      "['normal.' 'normal.' 'normal.' ... 'normal.' 'normal.' 'normal.']\n",
      "['normal.' 'normal.' 'normal.' ... 'normal.' 'normal.' 'normal.']\n"
     ]
    }
   ],
   "source": [
    "# Split the data from labels\n",
    "trlabels = df_training.iloc[:, 41].values\n",
    "tslabels = df_testing.iloc[:, 41].values\n",
    "\n",
    "training = df_training.drop(df_training.columns[41], axis=1)\n",
    "testing = df_testing.drop(df_testing.columns[41], axis=1)\n",
    "\n",
    "# The data after dropping the headers should be of shape (4898431, 41) and (311029, 41)\n",
    "assert (training.shape == (4898431, 41))\n",
    "assert (testing.shape == (311029, 41))\n",
    "print(trlabels)\n",
    "print(tslabels)"
   ]
  },
  {
   "attachments": {},
   "cell_type": "markdown",
   "metadata": {},
   "source": [
    "## Convert the categorical values into numeric values."
   ]
  },
  {
   "cell_type": "code",
   "execution_count": 35,
   "metadata": {},
   "outputs": [],
   "source": [
    "import numpy as np\n",
    "from sklearn.preprocessing import LabelEncoder\n",
    "\n",
    "def cat_to_num(trcolumn, tscolumn):\n",
    "    \"\"\"\n",
    "    Converts 2 categorical columns of the same types into numerical columns\n",
    "\n",
    "    Args:\n",
    "        trcolumn (ndarray): ndarray of values of the first column.\n",
    "        tscolumn (ndarray): ndarray of values of the second column.\n",
    "\n",
    "    Returns:\n",
    "        tuple: a tuple of 2 ndarrays\n",
    "    \"\"\"\n",
    "    encoder = LabelEncoder()\n",
    "    categories = set(np.unique(trcolumn)).union(set(np.unique(tscolumn)))\n",
    "    encoder.fit(list(categories))\n",
    "    return encoder.transform(trcolumn), encoder.transform(tscolumn)\n"
   ]
  },
  {
   "cell_type": "code",
   "execution_count": 39,
   "metadata": {},
   "outputs": [],
   "source": [
    "# Copy the data into another dataframe to convert its categorical values into numerical.\n",
    "num_training = training.copy()\n",
    "num_testing = testing.copy()\n",
    "\n",
    "# Convert the categorical features.\n",
    "for i in range(1, 4):\n",
    "    values = cat_to_num(num_training.iloc[:, i].values, num_testing.iloc[:, i].values)\n",
    "    num_training.isetitem(i, values[0])\n",
    "    num_testing.isetitem(i, values[1])\n",
    "\n",
    "# Convert the labels.\n",
    "num_trlabels, num_tslabels = cat_to_num(trlabels, tslabels)"
   ]
  },
  {
   "attachments": {},
   "cell_type": "markdown",
   "metadata": {},
   "source": [
    "The data is now available in two forms:\n",
    "* Form One (Categorical):\n",
    "    * training\n",
    "    * testing\n",
    "    * trlabels\n",
    "    * tslabels\n",
    "\n",
    "* Form Two (Numerical):\n",
    "    * training\n",
    "    * testing\n",
    "    * trlabels\n",
    "    * tslabels"
   ]
  }
 ],
 "metadata": {
  "kernelspec": {
   "display_name": "Python 3",
   "language": "python",
   "name": "python3"
  },
  "language_info": {
   "codemirror_mode": {
    "name": "ipython",
    "version": 3
   },
   "file_extension": ".py",
   "mimetype": "text/x-python",
   "name": "python",
   "nbconvert_exporter": "python",
   "pygments_lexer": "ipython3",
   "version": "3.9.13"
  },
  "orig_nbformat": 4
 },
 "nbformat": 4,
 "nbformat_minor": 2
}
