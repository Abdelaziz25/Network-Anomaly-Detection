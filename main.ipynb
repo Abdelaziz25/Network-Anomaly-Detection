{
 "cells": [
  {
   "attachments": {},
   "cell_type": "markdown",
   "metadata": {},
   "source": [
    "# Dataset Processing"
   ]
  },
  {
   "attachments": {},
   "cell_type": "markdown",
   "metadata": {},
   "source": [
    "## Read the training and testing data and save them into pandas dataframes."
   ]
  },
  {
   "cell_type": "code",
   "execution_count": 20,
   "metadata": {},
   "outputs": [],
   "source": [
    "import pandas as pd\n",
    "\n",
    "# Collect the data from the zipped files\n",
    "df_training = pd.read_csv('kddcup.data.gz', header=None)\n",
    "df_testing = pd.read_csv('corrected.gz', header=None)"
   ]
  },
  {
   "cell_type": "code",
   "execution_count": 22,
   "metadata": {},
   "outputs": [
    {
     "name": "stdout",
     "output_type": "stream",
     "text": [
      "['normal.' 'normal.' 'normal.' ... 'normal.' 'normal.' 'normal.']\n",
      "['normal.' 'normal.' 'normal.' ... 'normal.' 'normal.' 'normal.']\n"
     ]
    }
   ],
   "source": [
    "# Split the data from labels\n",
    "trlabels = df_training.iloc[:, 41].values\n",
    "tslabels = df_testing.iloc[:, 41].values\n",
    "\n",
    "training = df_training.drop(df_training.columns[41], axis=1)\n",
    "testing = df_testing.drop(df_testing.columns[41], axis=1)\n",
    "\n",
    "# The data after dropping the headers should be of shape (4898431, 41) and (311029, 41)\n",
    "assert (training.shape == (4898431, 41))\n",
    "assert (testing.shape == (311029, 41))\n",
    "print(trlabels)\n",
    "print(tslabels)"
   ]
  },
  {
   "attachments": {},
   "cell_type": "markdown",
   "metadata": {},
   "source": [
    "## Convert the categorical values into numeric values."
   ]
  },
  {
   "cell_type": "code",
   "execution_count": 35,
   "metadata": {},
   "outputs": [],
   "source": [
    "import numpy as np\n",
    "from sklearn.preprocessing import LabelEncoder\n",
    "\n",
    "def cat_to_num(trcolumn, tscolumn):\n",
    "    \"\"\"\n",
    "    Converts 2 categorical columns of the same types into numerical columns\n",
    "\n",
    "    Args:\n",
    "        trcolumn (ndarray): ndarray of values of the first column.\n",
    "        tscolumn (ndarray): ndarray of values of the second column.\n",
    "\n",
    "    Returns:\n",
    "        tuple: a tuple of 2 ndarrays\n",
    "    \"\"\"\n",
    "    encoder = LabelEncoder()\n",
    "    categories = set(np.unique(trcolumn)).union(set(np.unique(tscolumn)))\n",
    "    encoder.fit(list(categories))\n",
    "    return encoder.transform(trcolumn), encoder.transform(tscolumn)\n"
   ]
  },
  {
   "cell_type": "code",
   "execution_count": 39,
   "metadata": {},
   "outputs": [],
   "source": [
    "# Copy the data into another dataframe to convert its categorical values into numerical.\n",
    "num_training = training.copy()\n",
    "num_testing = testing.copy()\n",
    "\n",
    "# Convert the categorical features.\n",
    "for i in range(1, 4):\n",
    "    values = cat_to_num(num_training.iloc[:, i].values, num_testing.iloc[:, i].values)\n",
    "    num_training.isetitem(i, values[0])\n",
    "    num_testing.isetitem(i, values[1])\n",
    "\n",
    "# Convert the labels.\n",
    "num_trlabels, num_tslabels = cat_to_num(trlabels, tslabels)"
   ]
  },
  {
   "attachments": {},
   "cell_type": "markdown",
   "metadata": {},
   "source": [
    "The data is now available in two forms:\n",
    "* Form One (Categorical):\n",
    "    * training\n",
    "    * testing\n",
    "    * trlabels\n",
    "    * tslabels\n",
    "\n",
    "* Form Two (Numerical):\n",
    "    * training\n",
    "    * testing\n",
    "    * trlabels\n",
    "    * tslabels"
   ]
  },
  {
   "attachments": {},
   "cell_type": "markdown",
   "metadata": {},
   "source": [
    "# Normalized Cut"
   ]
  },
  {
   "cell_type": "code",
   "execution_count": 52,
   "metadata": {},
   "outputs": [
    {
     "ename": "MemoryError",
     "evalue": "Unable to allocate 5.46 TiB for an array with shape (2449215, 2449215) and data type int8",
     "output_type": "error",
     "traceback": [
      "\u001b[1;31m---------------------------------------------------------------------------\u001b[0m",
      "\u001b[1;31mMemoryError\u001b[0m                               Traceback (most recent call last)",
      "\u001b[1;32md:\\Workshop\\Network Anomaly Detection\\main.ipynb Cell 10\u001b[0m in \u001b[0;36m7\n\u001b[0;32m     <a href='vscode-notebook-cell:/d%3A/Workshop/Network%20Anomaly%20Detection/main.ipynb#X15sZmlsZQ%3D%3D?line=71'>72</a>\u001b[0m     kmeans\u001b[39m.\u001b[39mfit(eigvectors[:, \u001b[39m1\u001b[39m:k])\n\u001b[0;32m     <a href='vscode-notebook-cell:/d%3A/Workshop/Network%20Anomaly%20Detection/main.ipynb#X15sZmlsZQ%3D%3D?line=73'>74</a>\u001b[0m     \u001b[39mreturn\u001b[39;00m kmeans\u001b[39m.\u001b[39mlabels_\n\u001b[1;32m---> <a href='vscode-notebook-cell:/d%3A/Workshop/Network%20Anomaly%20Detection/main.ipynb#X15sZmlsZQ%3D%3D?line=75'>76</a>\u001b[0m \u001b[39mprint\u001b[39m(ncut(num_training, \u001b[39m23\u001b[39;49m))\n",
      "\u001b[1;32md:\\Workshop\\Network Anomaly Detection\\main.ipynb Cell 10\u001b[0m in \u001b[0;36m5\n\u001b[0;32m     <a href='vscode-notebook-cell:/d%3A/Workshop/Network%20Anomaly%20Detection/main.ipynb#X15sZmlsZQ%3D%3D?line=52'>53</a>\u001b[0m training \u001b[39m=\u001b[39m tts(data, random_state\u001b[39m=\u001b[39m\u001b[39m42\u001b[39m, test_size\u001b[39m=\u001b[39m\u001b[39m0.5\u001b[39m)[\u001b[39m0\u001b[39m]\n\u001b[0;32m     <a href='vscode-notebook-cell:/d%3A/Workshop/Network%20Anomaly%20Detection/main.ipynb#X15sZmlsZQ%3D%3D?line=54'>55</a>\u001b[0m \u001b[39m# Construct the similarity graph\u001b[39;00m\n\u001b[1;32m---> <a href='vscode-notebook-cell:/d%3A/Workshop/Network%20Anomaly%20Detection/main.ipynb#X15sZmlsZQ%3D%3D?line=55'>56</a>\u001b[0m S \u001b[39m=\u001b[39m sim_graph(training, sigma)\n\u001b[0;32m     <a href='vscode-notebook-cell:/d%3A/Workshop/Network%20Anomaly%20Detection/main.ipynb#X15sZmlsZQ%3D%3D?line=57'>58</a>\u001b[0m \u001b[39m# Construct the degree matrix\u001b[39;00m\n\u001b[0;32m     <a href='vscode-notebook-cell:/d%3A/Workshop/Network%20Anomaly%20Detection/main.ipynb#X15sZmlsZQ%3D%3D?line=58'>59</a>\u001b[0m degrees \u001b[39m=\u001b[39m \u001b[39msum\u001b[39m(S, axis\u001b[39m=\u001b[39m\u001b[39m1\u001b[39m)\n",
      "\u001b[1;32md:\\Workshop\\Network Anomaly Detection\\main.ipynb Cell 10\u001b[0m in \u001b[0;36m3\n\u001b[0;32m     <a href='vscode-notebook-cell:/d%3A/Workshop/Network%20Anomaly%20Detection/main.ipynb#X15sZmlsZQ%3D%3D?line=20'>21</a>\u001b[0m \u001b[39m\"\"\"\u001b[39;00m\n\u001b[0;32m     <a href='vscode-notebook-cell:/d%3A/Workshop/Network%20Anomaly%20Detection/main.ipynb#X15sZmlsZQ%3D%3D?line=21'>22</a>\u001b[0m \u001b[39mConstructs the similiarity graph of a given dataset.\u001b[39;00m\n\u001b[0;32m     <a href='vscode-notebook-cell:/d%3A/Workshop/Network%20Anomaly%20Detection/main.ipynb#X15sZmlsZQ%3D%3D?line=22'>23</a>\u001b[0m \n\u001b[1;32m   (...)\u001b[0m\n\u001b[0;32m     <a href='vscode-notebook-cell:/d%3A/Workshop/Network%20Anomaly%20Detection/main.ipynb#X15sZmlsZQ%3D%3D?line=28'>29</a>\u001b[0m \u001b[39m    ndarray: the similarity graph.\u001b[39;00m\n\u001b[0;32m     <a href='vscode-notebook-cell:/d%3A/Workshop/Network%20Anomaly%20Detection/main.ipynb#X15sZmlsZQ%3D%3D?line=29'>30</a>\u001b[0m \u001b[39m\"\"\"\u001b[39;00m\n\u001b[0;32m     <a href='vscode-notebook-cell:/d%3A/Workshop/Network%20Anomaly%20Detection/main.ipynb#X15sZmlsZQ%3D%3D?line=30'>31</a>\u001b[0m n \u001b[39m=\u001b[39m data\u001b[39m.\u001b[39mshape[\u001b[39m0\u001b[39m]\n\u001b[1;32m---> <a href='vscode-notebook-cell:/d%3A/Workshop/Network%20Anomaly%20Detection/main.ipynb#X15sZmlsZQ%3D%3D?line=31'>32</a>\u001b[0m S \u001b[39m=\u001b[39m zeros((n, n), dtype\u001b[39m=\u001b[39;49mint8)\n\u001b[0;32m     <a href='vscode-notebook-cell:/d%3A/Workshop/Network%20Anomaly%20Detection/main.ipynb#X15sZmlsZQ%3D%3D?line=32'>33</a>\u001b[0m \u001b[39mfor\u001b[39;00m i \u001b[39min\u001b[39;00m \u001b[39mrange\u001b[39m(n):\n\u001b[0;32m     <a href='vscode-notebook-cell:/d%3A/Workshop/Network%20Anomaly%20Detection/main.ipynb#X15sZmlsZQ%3D%3D?line=33'>34</a>\u001b[0m     \u001b[39mfor\u001b[39;00m j \u001b[39min\u001b[39;00m \u001b[39mrange\u001b[39m(i \u001b[39m+\u001b[39m \u001b[39m1\u001b[39m, n):\n",
      "\u001b[1;31mMemoryError\u001b[0m: Unable to allocate 5.46 TiB for an array with shape (2449215, 2449215) and data type int8"
     ]
    }
   ],
   "source": [
    "from sklearn.model_selection import train_test_split as tts\n",
    "from sklearn.cluster import KMeans\n",
    "from numpy import int8, argsort, zeros, exp, dot, sum, diag, linalg\n",
    "    \n",
    "\n",
    "def vecsort(vectors, values):\n",
    "    \"\"\"\n",
    "    Sorts vectors based on values.\n",
    "\n",
    "    Args:\n",
    "        vectors (nparray): nparray of vectors to be sorted.\n",
    "        values (nparray): nparray of values to be used to sort.\n",
    "\n",
    "    Returns:\n",
    "        nparray: nparray of sorted vectors with respect to values.\n",
    "    \"\"\"\n",
    "    return vectors[:, argsort(values)[::-1]]\n",
    "\n",
    "\n",
    "def sim_graph(data, sigma=1.0):\n",
    "    \"\"\"\n",
    "    Constructs the similiarity graph of a given dataset.\n",
    "\n",
    "    Args:\n",
    "        data (ndarray): ndarray of the dataset.\n",
    "        sigma (float, optional): Defaults to 1.0.\n",
    "\n",
    "    Returns:\n",
    "        ndarray: the similarity graph.\n",
    "    \"\"\"\n",
    "    n = data.shape[0]\n",
    "    S = zeros((n, n), dtype=int8)\n",
    "    for i in range(n):\n",
    "        for j in range(i + 1, n):\n",
    "            diff = data[i, :] - data[j, :]\n",
    "            S[i, j] = exp(-dot(diff, diff) / (2 * sigma ** 2))\n",
    "            S[j, i] = S[i, j]\n",
    "    return S\n",
    "\n",
    "\n",
    "def ncut(data, k, sigma=1.0):\n",
    "    \"\"\"\n",
    "    Splits the data into a training set and testing set with ratio 1:1, then applies the normalized cut algorithm on the reduced training dataset.\n",
    "\n",
    "    Args:\n",
    "        data (pd.DataFrame): pd.DataFrame containing the original dataset.\n",
    "        k (int): number of clusters.\n",
    "        sigma (float, optional): Defaults to 1.0.\n",
    "\n",
    "    Returns:\n",
    "        nparray: nparray of labels after applying the normalized cut algorithm.\n",
    "    \"\"\"\n",
    "    training = tts(data, random_state=42, test_size=0.5)[0]\n",
    "\n",
    "    # Construct the similarity graph\n",
    "    S = sim_graph(training, sigma)\n",
    "\n",
    "    # Construct the degree matrix\n",
    "    degrees = sum(S, axis=1)\n",
    "    D = diag(degrees)\n",
    "\n",
    "    # Compute Laplacian Matrix\n",
    "    L = D - training\n",
    "\n",
    "    # Compute sorted eigenvectors of the Laplacian Matrix\n",
    "    vectors, values = linalg.eig(L)\n",
    "    eigvectors = vecsort(vectors, values)\n",
    "\n",
    "    # Perform K-means clustering on eigenvectors\n",
    "    # TODO: This should be using the developed kmeans algorithm instead of python's built-in method.\n",
    "    kmeans = KMeans(n_clusters=k)\n",
    "    kmeans.fit(eigvectors[:, 1:k])\n",
    "\n",
    "    return kmeans.labels_\n",
    "\n",
    "print(ncut(num_training, 23))"
   ]
  }
 ],
 "metadata": {
  "kernelspec": {
   "display_name": "Python 3",
   "language": "python",
   "name": "python3"
  },
  "language_info": {
   "codemirror_mode": {
    "name": "ipython",
    "version": 3
   },
   "file_extension": ".py",
   "mimetype": "text/x-python",
   "name": "python",
   "nbconvert_exporter": "python",
   "pygments_lexer": "ipython3",
   "version": "3.9.13"
  },
  "orig_nbformat": 4
 },
 "nbformat": 4,
 "nbformat_minor": 2
}
